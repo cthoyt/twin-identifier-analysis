{
 "cells": [
  {
   "cell_type": "markdown",
   "id": "a964af94",
   "metadata": {},
   "source": [
    "# Twin Identifier Analysis\n",
    "\n",
    "This notebook looks for local unique identifiers that are the same in different biomedical ontologies, databases, and identifier spaces. The fact that there are lots of overlaps shows that the need for well-defined prefixes is incredibly important."
   ]
  },
  {
   "cell_type": "code",
   "execution_count": 1,
   "id": "5dab32e0",
   "metadata": {},
   "outputs": [],
   "source": [
    "import json\n",
    "from itertools import combinations\n",
    "from operator import itemgetter\n",
    "\n",
    "import bioregistry\n",
    "import networkx as nx\n",
    "import pandas as pd\n",
    "import pyobo\n",
    "from tqdm.auto import tqdm\n",
    "from tqdm.contrib.logging import logging_redirect_tqdm"
   ]
  },
  {
   "cell_type": "markdown",
   "id": "639f5b11",
   "metadata": {},
   "source": [
    "Extract the list of local unique identifiers from all resources gettable from PyOBO. Note that these local unique identifiers are normalized by the Bioregistry to remove potential redundant prefixes."
   ]
  },
  {
   "cell_type": "code",
   "execution_count": 3,
   "id": "e56481fe",
   "metadata": {},
   "outputs": [],
   "source": [
    "skip = {\"umls\", \"kegg\", \"icd10\", \"icd11\"}\n",
    "resources = [\n",
    "    resource\n",
    "    for resource in bioregistry.resources()\n",
    "    if (resource.has_download() or pyobo.has_nomenclature_plugin(resource.prefix)) \n",
    "    and not resource.is_deprecated()\n",
    "    and resource.prefix not in skip\n",
    "]\n",
    "assert \"mesh\" in {r.prefix for r in resources}"
   ]
  },
  {
   "cell_type": "code",
   "execution_count": 4,
   "id": "e4f52ee3",
   "metadata": {},
   "outputs": [
    {
     "data": {
      "application/vnd.jupyter.widget-view+json": {
       "model_id": "c3075b2bc9494b80b4fc413dc31625de",
       "version_major": 2,
       "version_minor": 0
      },
      "text/plain": [
       "  0%|          | 0.00/362 [00:00<?, ?prefix/s]"
      ]
     },
     "metadata": {},
     "output_type": "display_data"
    },
    {
     "name": "stdout",
     "output_type": "stream",
     "text": [
      "failed on ado\n"
     ]
    },
    {
     "name": "stderr",
     "output_type": "stream",
     "text": [
      "INFO: [2023-02-10 13:39:21] pystow.utils - downloading with urllib from http://purl.allotrope.org/voc/afo/merged-OLS/REC/2019/05/10 to /Users/cthoyt/.data/pyobo/raw/afo/2019-05-10/10\n"
     ]
    },
    {
     "name": "stdout",
     "output_type": "stream",
     "text": [
      "failed on aeon\n",
      "failed on afo\n",
      "failed on apaonto\n",
      "failed on apollosv\n"
     ]
    },
    {
     "name": "stderr",
     "output_type": "stream",
     "text": [
      "[Fatal Error] :67773:173: The reference to entity \"idAhol\" must end with the ';' delimiter.\n"
     ]
    },
    {
     "name": "stdout",
     "output_type": "stream",
     "text": [
      "failed on atol\n",
      "failed on bao\n",
      "failed on bcio\n",
      "failed on bco\n"
     ]
    },
    {
     "name": "stderr",
     "output_type": "stream",
     "text": [
      "INFO: [2023-02-10 13:40:05] pyobo.reader - [biolink] parsing with obonet from /Users/cthoyt/.data/pyobo/raw/biolink/biolink.obo\n",
      "WARNING: [2023-02-10 13:40:05] pyobo.reader - [biolink] ontology=https://w3id.org/biolink/biolink-model has a strange format. replacing with prefix\n",
      "INFO: [2023-02-10 13:40:05] pyobo.reader - [biolink] extracting OBO using obonet\n",
      "INFO: [2023-02-10 13:40:05] pyobo.reader - [biolink] does not report a date\n",
      "WARNING: [2023-02-10 13:40:05] pyobo.reader - [biolink] does not report a version nor a date\n",
      "WARNING: [2023-02-10 13:40:05] pyobo.reader - [biolink] unable to parse typedef CURIE active:in\n",
      "WARNING: [2023-02-10 13:40:05] pyobo.reader - [biolink] unable to parse typedef CURIE actively:involves\n",
      "WARNING: [2023-02-10 13:40:05] pyobo.reader - [biolink] unable to parse typedef CURIE affected:by\n",
      "WARNING: [2023-02-10 13:40:05] pyobo.reader - [biolink] unable to parse typedef CURIE aggregate:statistic\n",
      "WARNING: [2023-02-10 13:40:05] pyobo.reader - [biolink] unable to parse typedef CURIE associated:with\n",
      "WARNING: [2023-02-10 13:40:05] pyobo.reader - [biolink] unable to parse typedef CURIE association:slot\n",
      "WARNING: [2023-02-10 13:40:05] pyobo.reader - [biolink] unable to parse typedef CURIE association:type\n",
      "WARNING: [2023-02-10 13:40:05] pyobo.reader - [biolink] unable to parse typedef CURIE available:from\n",
      "WARNING: [2023-02-10 13:40:05] pyobo.reader - [biolink] unable to parse typedef CURIE base:coordinate\n",
      "WARNING: [2023-02-10 13:40:05] pyobo.reader - [biolink] unable to parse typedef CURIE biomarker:for\n",
      "WARNING: [2023-02-10 13:40:05] pyobo.reader - [biolink] unable to parse typedef CURIE capable:of\n",
      "WARNING: [2023-02-10 13:40:05] pyobo.reader - [biolink] unable to parse typedef CURIE caused:by\n",
      "WARNING: [2023-02-10 13:40:05] pyobo.reader - [biolink] unable to parse typedef CURIE close:match\n",
      "WARNING: [2023-02-10 13:40:05] pyobo.reader - [biolink] unable to parse typedef CURIE coexists:with\n",
      "WARNING: [2023-02-10 13:40:05] pyobo.reader - [biolink] unable to parse typedef CURIE coexpressed:with\n",
      "WARNING: [2023-02-10 13:40:05] pyobo.reader - [biolink] unable to parse typedef CURIE colocalizes:with\n",
      "WARNING: [2023-02-10 13:40:05] pyobo.reader - [biolink] unable to parse typedef CURIE completed:by\n"
     ]
    },
    {
     "name": "stdout",
     "output_type": "stream",
     "text": [
      "failed on biolink\n",
      "failed on biomodels.kisao\n"
     ]
    },
    {
     "name": "stderr",
     "output_type": "stream",
     "text": [
      "INFO: [2023-02-10 13:40:09] pyobo.reader - [biomodels.teddy] parsing with obonet from /Users/cthoyt/.data/pyobo/raw/biomodels.teddy/2014-04-24/teddy-inferred.obo\n",
      "WARNING: [2023-02-10 13:40:09] pyobo.reader - [biomodels.teddy] ontology=http://identifiers.org/teddy/ has a strange format. replacing with prefix\n",
      "INFO: [2023-02-10 13:40:09] pyobo.reader - [biomodels.teddy] extracting OBO using obonet\n",
      "INFO: [2023-02-10 13:40:09] pyobo.reader - [biomodels.teddy] does not report a date\n",
      "INFO: [2023-02-10 13:40:09] pyobo.reader - [biomodels.teddy] using version 2014-04-24\n"
     ]
    },
    {
     "name": "stdout",
     "output_type": "stream",
     "text": [
      "failed on biomodels.teddy\n"
     ]
    },
    {
     "name": "stderr",
     "output_type": "stream",
     "text": [
      "INFO: [2023-02-10 13:40:11] pyobo.getters - [ccle] caching nomenclature plugin\n"
     ]
    },
    {
     "name": "stdout",
     "output_type": "stream",
     "text": [
      "failed on bko\n"
     ]
    },
    {
     "name": "stderr",
     "output_type": "stream",
     "text": [
      "[Fatal Error] :16:76: Attribute name \"crossorigin\" associated with an element type \"link\" must be followed by the ' = ' character.\n",
      "WARNING: [2023-02-10 13:40:21] pyobo.utils.misc - [cemo] bizarre version: 16-05-2021\n"
     ]
    },
    {
     "name": "stdout",
     "output_type": "stream",
     "text": [
      "failed on cdt\n",
      "failed on cheminf\n"
     ]
    },
    {
     "name": "stderr",
     "output_type": "stream",
     "text": [
      "INFO: [2023-02-10 13:40:26] pyobo.reader - [chemrof] parsing with obonet from /Users/cthoyt/.data/pyobo/raw/chemrof/chemrof.obo\n",
      "WARNING: [2023-02-10 13:40:26] pyobo.reader - [chemrof] ontology=https://w3id.org/chemrof has a strange format. replacing with prefix\n",
      "INFO: [2023-02-10 13:40:26] pyobo.reader - [chemrof] extracting OBO using obonet\n",
      "INFO: [2023-02-10 13:40:26] pyobo.reader - [chemrof] does not report a date\n",
      "WARNING: [2023-02-10 13:40:26] pyobo.reader - [chemrof] does not report a version nor a date\n"
     ]
    },
    {
     "name": "stdout",
     "output_type": "stream",
     "text": [
      "failed on chemrof\n"
     ]
    },
    {
     "name": "stderr",
     "output_type": "stream",
     "text": [
      "INFO: [2023-02-10 13:40:31] pyobo.reader - [classyfire] parsing with obonet from /Users/cthoyt/.data/pyobo/raw/classyfire/ChemOnt_2_1.obo.zip\n"
     ]
    },
    {
     "name": "stdout",
     "output_type": "stream",
     "text": [
      "failed on cido\n",
      "failed on classyfire\n",
      "failed on clo\n"
     ]
    },
    {
     "name": "stderr",
     "output_type": "stream",
     "text": [
      "INFO: [2023-02-10 13:40:43] pyobo.reader - [co_320] parsing with obonet from /Users/cthoyt/.data/pyobo/raw/co_320/2019-10-09/owl.obo\n",
      "WARNING: [2023-02-10 13:40:43] pyobo.reader - [co_320] ontology=https://cropontology.org/rdf/ has a strange format. replacing with prefix\n",
      "INFO: [2023-02-10 13:40:43] pyobo.reader - [co_320] extracting OBO using obonet\n",
      "INFO: [2023-02-10 13:40:43] pyobo.reader - [co_320] does not report a date\n",
      "WARNING: [2023-02-10 13:40:43] pyobo.reader - [co_320] does not report a version nor a date\n"
     ]
    },
    {
     "name": "stdout",
     "output_type": "stream",
     "text": [
      "failed on co_320\n"
     ]
    },
    {
     "name": "stderr",
     "output_type": "stream",
     "text": [
      "INFO: [2023-02-10 13:40:45] pyobo.reader - [co_321] parsing with obonet from /Users/cthoyt/.data/pyobo/raw/co_321/2019-10-09/owl.obo\n",
      "WARNING: [2023-02-10 13:40:45] pyobo.reader - [co_321] ontology=https://cropontology.org/rdf/ has a strange format. replacing with prefix\n",
      "INFO: [2023-02-10 13:40:45] pyobo.reader - [co_321] extracting OBO using obonet\n",
      "INFO: [2023-02-10 13:40:45] pyobo.reader - [co_321] does not report a date\n",
      "WARNING: [2023-02-10 13:40:45] pyobo.reader - [co_321] does not report a version nor a date\n"
     ]
    },
    {
     "name": "stdout",
     "output_type": "stream",
     "text": [
      "failed on co_321\n"
     ]
    },
    {
     "name": "stderr",
     "output_type": "stream",
     "text": [
      "INFO: [2023-02-10 13:40:46] pyobo.reader - [co_322] parsing with obonet from /Users/cthoyt/.data/pyobo/raw/co_322/2019-10-09/owl.obo\n",
      "WARNING: [2023-02-10 13:40:46] pyobo.reader - [co_322] ontology=https://cropontology.org/rdf/ has a strange format. replacing with prefix\n",
      "INFO: [2023-02-10 13:40:46] pyobo.reader - [co_322] extracting OBO using obonet\n",
      "INFO: [2023-02-10 13:40:46] pyobo.reader - [co_322] does not report a date\n",
      "WARNING: [2023-02-10 13:40:46] pyobo.reader - [co_322] does not report a version nor a date\n"
     ]
    },
    {
     "name": "stdout",
     "output_type": "stream",
     "text": [
      "failed on co_322\n"
     ]
    },
    {
     "name": "stderr",
     "output_type": "stream",
     "text": [
      "INFO: [2023-02-10 13:40:48] pyobo.reader - [co_323] parsing with obonet from /Users/cthoyt/.data/pyobo/raw/co_323/2019-11-20/owl.obo\n",
      "WARNING: [2023-02-10 13:40:48] pyobo.reader - [co_323] ontology=https://cropontology.org/rdf/ has a strange format. replacing with prefix\n",
      "INFO: [2023-02-10 13:40:48] pyobo.reader - [co_323] extracting OBO using obonet\n",
      "INFO: [2023-02-10 13:40:48] pyobo.reader - [co_323] does not report a date\n",
      "WARNING: [2023-02-10 13:40:48] pyobo.reader - [co_323] does not report a version nor a date\n"
     ]
    },
    {
     "name": "stdout",
     "output_type": "stream",
     "text": [
      "failed on co_323\n"
     ]
    },
    {
     "name": "stderr",
     "output_type": "stream",
     "text": [
      "INFO: [2023-02-10 13:40:49] pyobo.reader - [co_324] parsing with obonet from /Users/cthoyt/.data/pyobo/raw/co_324/2019-10-09/owl.obo\n",
      "WARNING: [2023-02-10 13:40:49] pyobo.reader - [co_324] ontology=https://cropontology.org/rdf/ has a strange format. replacing with prefix\n",
      "INFO: [2023-02-10 13:40:49] pyobo.reader - [co_324] extracting OBO using obonet\n",
      "INFO: [2023-02-10 13:40:49] pyobo.reader - [co_324] does not report a date\n",
      "WARNING: [2023-02-10 13:40:49] pyobo.reader - [co_324] does not report a version nor a date\n"
     ]
    },
    {
     "name": "stdout",
     "output_type": "stream",
     "text": [
      "failed on co_324\n",
      "failed on co_325\n"
     ]
    },
    {
     "name": "stderr",
     "output_type": "stream",
     "text": [
      "INFO: [2023-02-10 13:40:52] pyobo.reader - [co_326] parsing with obonet from /Users/cthoyt/.data/pyobo/raw/co_326/owl.obo\n",
      "WARNING: [2023-02-10 13:40:52] pyobo.reader - [co_326] ontology=https://cropontology.org/rdf/ has a strange format. replacing with prefix\n",
      "INFO: [2023-02-10 13:40:52] pyobo.reader - [co_326] extracting OBO using obonet\n",
      "INFO: [2023-02-10 13:40:52] pyobo.reader - [co_326] does not report a date\n",
      "WARNING: [2023-02-10 13:40:52] pyobo.reader - [co_326] does not report a version nor a date\n"
     ]
    },
    {
     "name": "stdout",
     "output_type": "stream",
     "text": [
      "failed on co_326\n"
     ]
    },
    {
     "name": "stderr",
     "output_type": "stream",
     "text": [
      "INFO: [2023-02-10 13:40:53] pyobo.reader - [co_327] parsing with obonet from /Users/cthoyt/.data/pyobo/raw/co_327/owl.obo\n",
      "WARNING: [2023-02-10 13:40:53] pyobo.reader - [co_327] ontology=https://cropontology.org/rdf/ has a strange format. replacing with prefix\n",
      "INFO: [2023-02-10 13:40:53] pyobo.reader - [co_327] extracting OBO using obonet\n",
      "INFO: [2023-02-10 13:40:53] pyobo.reader - [co_327] does not report a date\n",
      "WARNING: [2023-02-10 13:40:53] pyobo.reader - [co_327] does not report a version nor a date\n"
     ]
    },
    {
     "name": "stdout",
     "output_type": "stream",
     "text": [
      "failed on co_327\n"
     ]
    },
    {
     "name": "stderr",
     "output_type": "stream",
     "text": [
      "INFO: [2023-02-10 13:40:55] pyobo.reader - [co_330] parsing with obonet from /Users/cthoyt/.data/pyobo/raw/co_330/2019-10-09/owl.obo\n",
      "WARNING: [2023-02-10 13:40:55] pyobo.reader - [co_330] ontology=https://cropontology.org/rdf/ has a strange format. replacing with prefix\n",
      "INFO: [2023-02-10 13:40:55] pyobo.reader - [co_330] extracting OBO using obonet\n",
      "INFO: [2023-02-10 13:40:55] pyobo.reader - [co_330] does not report a date\n",
      "WARNING: [2023-02-10 13:40:55] pyobo.reader - [co_330] does not report a version nor a date\n"
     ]
    },
    {
     "name": "stdout",
     "output_type": "stream",
     "text": [
      "failed on co_330\n"
     ]
    },
    {
     "name": "stderr",
     "output_type": "stream",
     "text": [
      "INFO: [2023-02-10 13:40:56] pyobo.reader - [co_331] parsing with obonet from /Users/cthoyt/.data/pyobo/raw/co_331/owl.obo\n",
      "WARNING: [2023-02-10 13:40:57] pyobo.reader - [co_331] ontology=https://cropontology.org/rdf/ has a strange format. replacing with prefix\n",
      "INFO: [2023-02-10 13:40:57] pyobo.reader - [co_331] extracting OBO using obonet\n",
      "INFO: [2023-02-10 13:40:57] pyobo.reader - [co_331] does not report a date\n",
      "WARNING: [2023-02-10 13:40:57] pyobo.reader - [co_331] does not report a version nor a date\n"
     ]
    },
    {
     "name": "stdout",
     "output_type": "stream",
     "text": [
      "failed on co_331\n",
      "failed on co_333\n"
     ]
    },
    {
     "name": "stderr",
     "output_type": "stream",
     "text": [
      "INFO: [2023-02-10 13:41:00] pyobo.reader - [co_334] parsing with obonet from /Users/cthoyt/.data/pyobo/raw/co_334/2019-10-09/owl.obo\n",
      "WARNING: [2023-02-10 13:41:00] pyobo.reader - [co_334] ontology=https://cropontology.org/rdf/ has a strange format. replacing with prefix\n",
      "INFO: [2023-02-10 13:41:00] pyobo.reader - [co_334] extracting OBO using obonet\n",
      "INFO: [2023-02-10 13:41:00] pyobo.reader - [co_334] does not report a date\n",
      "WARNING: [2023-02-10 13:41:00] pyobo.reader - [co_334] does not report a version nor a date\n"
     ]
    },
    {
     "name": "stdout",
     "output_type": "stream",
     "text": [
      "failed on co_334\n"
     ]
    },
    {
     "name": "stderr",
     "output_type": "stream",
     "text": [
      "INFO: [2023-02-10 13:41:01] pyobo.reader - [co_335] parsing with obonet from /Users/cthoyt/.data/pyobo/raw/co_335/owl.obo\n",
      "WARNING: [2023-02-10 13:41:01] pyobo.reader - [co_335] ontology=https://cropontology.org/rdf/ has a strange format. replacing with prefix\n",
      "INFO: [2023-02-10 13:41:01] pyobo.reader - [co_335] extracting OBO using obonet\n",
      "INFO: [2023-02-10 13:41:01] pyobo.reader - [co_335] does not report a date\n",
      "WARNING: [2023-02-10 13:41:01] pyobo.reader - [co_335] does not report a version nor a date\n"
     ]
    },
    {
     "name": "stdout",
     "output_type": "stream",
     "text": [
      "failed on co_335\n"
     ]
    },
    {
     "name": "stderr",
     "output_type": "stream",
     "text": [
      "INFO: [2023-02-10 13:41:02] pyobo.reader - [co_336] parsing with obonet from /Users/cthoyt/.data/pyobo/raw/co_336/owl.obo\n",
      "WARNING: [2023-02-10 13:41:02] pyobo.reader - [co_336] ontology=https://cropontology.org/rdf/ has a strange format. replacing with prefix\n",
      "INFO: [2023-02-10 13:41:02] pyobo.reader - [co_336] extracting OBO using obonet\n",
      "INFO: [2023-02-10 13:41:02] pyobo.reader - [co_336] does not report a date\n",
      "WARNING: [2023-02-10 13:41:02] pyobo.reader - [co_336] does not report a version nor a date\n"
     ]
    },
    {
     "name": "stdout",
     "output_type": "stream",
     "text": [
      "failed on co_336\n",
      "failed on co_337\n"
     ]
    },
    {
     "name": "stderr",
     "output_type": "stream",
     "text": [
      "INFO: [2023-02-10 13:41:05] pyobo.reader - [co_338] parsing with obonet from /Users/cthoyt/.data/pyobo/raw/co_338/2019-10-09/owl.obo\n",
      "WARNING: [2023-02-10 13:41:05] pyobo.reader - [co_338] ontology=https://cropontology.org/rdf/ has a strange format. replacing with prefix\n",
      "INFO: [2023-02-10 13:41:05] pyobo.reader - [co_338] extracting OBO using obonet\n",
      "INFO: [2023-02-10 13:41:05] pyobo.reader - [co_338] does not report a date\n",
      "WARNING: [2023-02-10 13:41:05] pyobo.reader - [co_338] does not report a version nor a date\n"
     ]
    },
    {
     "name": "stdout",
     "output_type": "stream",
     "text": [
      "failed on co_338\n"
     ]
    },
    {
     "name": "stderr",
     "output_type": "stream",
     "text": [
      "INFO: [2023-02-10 13:41:06] pyobo.reader - [co_339] parsing with obonet from /Users/cthoyt/.data/pyobo/raw/co_339/2019-10-09/owl.obo\n",
      "WARNING: [2023-02-10 13:41:06] pyobo.reader - [co_339] ontology=https://cropontology.org/rdf/ has a strange format. replacing with prefix\n",
      "INFO: [2023-02-10 13:41:06] pyobo.reader - [co_339] extracting OBO using obonet\n",
      "INFO: [2023-02-10 13:41:06] pyobo.reader - [co_339] does not report a date\n",
      "WARNING: [2023-02-10 13:41:06] pyobo.reader - [co_339] does not report a version nor a date\n"
     ]
    },
    {
     "name": "stdout",
     "output_type": "stream",
     "text": [
      "failed on co_339\n"
     ]
    },
    {
     "name": "stderr",
     "output_type": "stream",
     "text": [
      "INFO: [2023-02-10 13:41:07] pyobo.reader - [co_340] parsing with obonet from /Users/cthoyt/.data/pyobo/raw/co_340/2019-10-09/owl.obo\n",
      "WARNING: [2023-02-10 13:41:07] pyobo.reader - [co_340] ontology=https://cropontology.org/rdf/ has a strange format. replacing with prefix\n",
      "INFO: [2023-02-10 13:41:07] pyobo.reader - [co_340] extracting OBO using obonet\n",
      "INFO: [2023-02-10 13:41:07] pyobo.reader - [co_340] does not report a date\n",
      "WARNING: [2023-02-10 13:41:07] pyobo.reader - [co_340] does not report a version nor a date\n"
     ]
    },
    {
     "name": "stdout",
     "output_type": "stream",
     "text": [
      "failed on co_340\n"
     ]
    },
    {
     "name": "stderr",
     "output_type": "stream",
     "text": [
      "INFO: [2023-02-10 13:41:08] pyobo.reader - [co_341] parsing with obonet from /Users/cthoyt/.data/pyobo/raw/co_341/2019-11-18/owl.obo\n",
      "WARNING: [2023-02-10 13:41:08] pyobo.reader - [co_341] ontology=https://cropontology.org/rdf/ has a strange format. replacing with prefix\n",
      "INFO: [2023-02-10 13:41:08] pyobo.reader - [co_341] extracting OBO using obonet\n",
      "INFO: [2023-02-10 13:41:08] pyobo.reader - [co_341] does not report a date\n",
      "WARNING: [2023-02-10 13:41:08] pyobo.reader - [co_341] does not report a version nor a date\n"
     ]
    },
    {
     "name": "stdout",
     "output_type": "stream",
     "text": [
      "failed on co_341\n"
     ]
    },
    {
     "name": "stderr",
     "output_type": "stream",
     "text": [
      "INFO: [2023-02-10 13:41:10] pyobo.reader - [co_343] parsing with obonet from /Users/cthoyt/.data/pyobo/raw/co_343/2019-10-09/owl.obo\n",
      "WARNING: [2023-02-10 13:41:10] pyobo.reader - [co_343] ontology=https://cropontology.org/rdf/ has a strange format. replacing with prefix\n",
      "INFO: [2023-02-10 13:41:10] pyobo.reader - [co_343] extracting OBO using obonet\n",
      "INFO: [2023-02-10 13:41:10] pyobo.reader - [co_343] does not report a date\n",
      "WARNING: [2023-02-10 13:41:10] pyobo.reader - [co_343] does not report a version nor a date\n"
     ]
    },
    {
     "name": "stdout",
     "output_type": "stream",
     "text": [
      "failed on co_343\n"
     ]
    },
    {
     "name": "stderr",
     "output_type": "stream",
     "text": [
      "INFO: [2023-02-10 13:41:11] pyobo.reader - [co_345] parsing with obonet from /Users/cthoyt/.data/pyobo/raw/co_345/2019-10-09/owl.obo\n",
      "WARNING: [2023-02-10 13:41:11] pyobo.reader - [co_345] ontology=https://cropontology.org/rdf/ has a strange format. replacing with prefix\n",
      "INFO: [2023-02-10 13:41:11] pyobo.reader - [co_345] extracting OBO using obonet\n",
      "INFO: [2023-02-10 13:41:11] pyobo.reader - [co_345] does not report a date\n",
      "WARNING: [2023-02-10 13:41:11] pyobo.reader - [co_345] does not report a version nor a date\n"
     ]
    },
    {
     "name": "stdout",
     "output_type": "stream",
     "text": [
      "failed on co_345\n"
     ]
    },
    {
     "name": "stderr",
     "output_type": "stream",
     "text": [
      "INFO: [2023-02-10 13:41:12] pyobo.reader - [co_346] parsing with obonet from /Users/cthoyt/.data/pyobo/raw/co_346/2019-10-09/owl.obo\n",
      "WARNING: [2023-02-10 13:41:12] pyobo.reader - [co_346] ontology=https://cropontology.org/rdf/ has a strange format. replacing with prefix\n",
      "INFO: [2023-02-10 13:41:12] pyobo.reader - [co_346] extracting OBO using obonet\n",
      "INFO: [2023-02-10 13:41:12] pyobo.reader - [co_346] does not report a date\n",
      "WARNING: [2023-02-10 13:41:12] pyobo.reader - [co_346] does not report a version nor a date\n"
     ]
    },
    {
     "name": "stdout",
     "output_type": "stream",
     "text": [
      "failed on co_346\n"
     ]
    },
    {
     "name": "stderr",
     "output_type": "stream",
     "text": [
      "INFO: [2023-02-10 13:41:13] pyobo.reader - [co_347] parsing with obonet from /Users/cthoyt/.data/pyobo/raw/co_347/owl.obo\n",
      "WARNING: [2023-02-10 13:41:13] pyobo.reader - [co_347] ontology=https://cropontology.org/rdf/ has a strange format. replacing with prefix\n",
      "INFO: [2023-02-10 13:41:13] pyobo.reader - [co_347] extracting OBO using obonet\n",
      "INFO: [2023-02-10 13:41:13] pyobo.reader - [co_347] does not report a date\n",
      "WARNING: [2023-02-10 13:41:13] pyobo.reader - [co_347] does not report a version nor a date\n"
     ]
    },
    {
     "name": "stdout",
     "output_type": "stream",
     "text": [
      "failed on co_347\n",
      "failed on co_348\n"
     ]
    },
    {
     "name": "stderr",
     "output_type": "stream",
     "text": [
      "INFO: [2023-02-10 13:41:16] pyobo.reader - [co_350] parsing with obonet from /Users/cthoyt/.data/pyobo/raw/co_350/2019-10-09/owl.obo\n",
      "WARNING: [2023-02-10 13:41:16] pyobo.reader - [co_350] ontology=https://cropontology.org/rdf/ has a strange format. replacing with prefix\n",
      "INFO: [2023-02-10 13:41:16] pyobo.reader - [co_350] extracting OBO using obonet\n",
      "INFO: [2023-02-10 13:41:16] pyobo.reader - [co_350] does not report a date\n",
      "WARNING: [2023-02-10 13:41:16] pyobo.reader - [co_350] does not report a version nor a date\n"
     ]
    },
    {
     "name": "stdout",
     "output_type": "stream",
     "text": [
      "failed on co_350\n"
     ]
    },
    {
     "name": "stderr",
     "output_type": "stream",
     "text": [
      "INFO: [2023-02-10 13:41:17] pyobo.reader - [co_356] parsing with obonet from /Users/cthoyt/.data/pyobo/raw/co_356/2019-11-29/owl.obo\n",
      "WARNING: [2023-02-10 13:41:18] pyobo.reader - [co_356] ontology=https://cropontology.org/rdf/ has a strange format. replacing with prefix\n",
      "INFO: [2023-02-10 13:41:18] pyobo.reader - [co_356] extracting OBO using obonet\n",
      "INFO: [2023-02-10 13:41:18] pyobo.reader - [co_356] does not report a date\n",
      "WARNING: [2023-02-10 13:41:18] pyobo.reader - [co_356] does not report a version nor a date\n"
     ]
    },
    {
     "name": "stdout",
     "output_type": "stream",
     "text": [
      "failed on co_356\n"
     ]
    },
    {
     "name": "stderr",
     "output_type": "stream",
     "text": [
      "Exception in thread \"main\" java.lang.NoClassDefFoundError: javax/xml/bind/annotation/adapters/HexBinaryAdapter\n",
      "\tat org.openrdf.rio.helpers.RDFParserBase.createBNode(RDFParserBase.java:485)\n",
      "\tat org.openrdf.rio.rdfxml.RDFXMLParser.createBNode(RDFXMLParser.java:1046)\n",
      "\tat org.openrdf.rio.rdfxml.RDFXMLParser.getNodeResource(RDFXMLParser.java:729)\n",
      "\tat org.openrdf.rio.rdfxml.RDFXMLParser.processNodeElt(RDFXMLParser.java:621)\n",
      "\tat org.openrdf.rio.rdfxml.RDFXMLParser.startElement(RDFXMLParser.java:527)\n",
      "\tat org.openrdf.rio.rdfxml.SAXFilter.reportDeferredStartElement(SAXFilter.java:334)\n",
      "\tat org.openrdf.rio.rdfxml.SAXFilter.startElement(SAXFilter.java:257)\n",
      "\tat java.xml/com.sun.org.apache.xerces.internal.parsers.AbstractSAXParser.startElement(AbstractSAXParser.java:510)\n",
      "\tat java.xml/com.sun.org.apache.xerces.internal.parsers.AbstractXMLDocumentParser.emptyElement(AbstractXMLDocumentParser.java:183)\n",
      "\tat java.xml/com.sun.org.apache.xerces.internal.impl.XMLNSDocumentScannerImpl.scanStartElement(XMLNSDocumentScannerImpl.java:351)\n",
      "\tat java.xml/com.sun.org.apache.xerces.internal.impl.XMLDocumentFragmentScannerImpl$FragmentContentDriver.next(XMLDocumentFragmentScannerImpl.java:2708)\n",
      "\tat java.xml/com.sun.org.apache.xerces.internal.impl.XMLDocumentScannerImpl.next(XMLDocumentScannerImpl.java:605)\n",
      "\tat java.xml/com.sun.org.apache.xerces.internal.impl.XMLNSDocumentScannerImpl.next(XMLNSDocumentScannerImpl.java:112)\n",
      "\tat java.xml/com.sun.org.apache.xerces.internal.impl.XMLDocumentFragmentScannerImpl.scanDocument(XMLDocumentFragmentScannerImpl.java:534)\n",
      "\tat java.xml/com.sun.org.apache.xerces.internal.parsers.XML11Configuration.parse(XML11Configuration.java:888)\n",
      "\tat java.xml/com.sun.org.apache.xerces.internal.parsers.XML11Configuration.parse(XML11Configuration.java:824)\n",
      "\tat java.xml/com.sun.org.apache.xerces.internal.parsers.XMLParser.parse(XMLParser.java:141)\n",
      "\tat java.xml/com.sun.org.apache.xerces.internal.parsers.AbstractSAXParser.parse(AbstractSAXParser.java:1216)\n",
      "\tat java.xml/com.sun.org.apache.xerces.internal.jaxp.SAXParserImpl$JAXPSAXParser.parse(SAXParserImpl.java:635)\n",
      "\tat org.openrdf.rio.rdfxml.RDFXMLParser.parse(RDFXMLParser.java:356)\n",
      "\tat org.openrdf.rio.rdfxml.RDFXMLParser.parse(RDFXMLParser.java:269)\n",
      "\tat org.semanticweb.owlapi.rio.RioParserImpl.parseDocumentSource(RioParserImpl.java:250)\n",
      "\tat org.semanticweb.owlapi.rio.RioParserImpl.parse(RioParserImpl.java:191)\n",
      "\tat uk.ac.manchester.cs.owl.owlapi.OWLOntologyFactoryImpl.loadOWLOntology(OWLOntologyFactoryImpl.java:220)\n",
      "\tat uk.ac.manchester.cs.owl.owlapi.OWLOntologyManagerImpl.actualParse(OWLOntologyManagerImpl.java:1254)\n",
      "\tat uk.ac.manchester.cs.owl.owlapi.OWLOntologyManagerImpl.loadOntology(OWLOntologyManagerImpl.java:1208)\n",
      "\tat uk.ac.manchester.cs.owl.owlapi.OWLOntologyManagerImpl.loadOntologyFromOntologyDocument(OWLOntologyManagerImpl.java:1165)\n",
      "\tat org.obolibrary.robot.IOHelper.loadOntology(IOHelper.java:531)\n",
      "\tat org.obolibrary.robot.IOHelper.loadOntology(IOHelper.java:417)\n",
      "\tat org.obolibrary.robot.IOHelper.loadOntology(IOHelper.java:298)\n",
      "\tat org.obolibrary.robot.CommandLineHelper.getInputOntologies(CommandLineHelper.java:1064)\n",
      "\tat org.obolibrary.robot.CommandLineHelper.getInputOntologies(CommandLineHelper.java:522)\n",
      "\tat org.obolibrary.robot.MergeCommand.execute(MergeCommand.java:114)\n",
      "\tat org.obolibrary.robot.CommandManager.executeCommand(CommandManager.java:248)\n",
      "\tat org.obolibrary.robot.CommandManager.execute(CommandManager.java:192)\n",
      "\tat org.obolibrary.robot.CommandManager.main(CommandManager.java:139)\n",
      "\tat org.obolibrary.robot.CommandLineInterface.main(CommandLineInterface.java:60)\n",
      "Caused by: java.lang.ClassNotFoundException: javax.xml.bind.annotation.adapters.HexBinaryAdapter\n",
      "\tat java.base/jdk.internal.loader.BuiltinClassLoader.loadClass(BuiltinClassLoader.java:583)\n",
      "\tat java.base/jdk.internal.loader.ClassLoaders$AppClassLoader.loadClass(ClassLoaders.java:178)\n",
      "\tat java.base/java.lang.ClassLoader.loadClass(ClassLoader.java:521)\n",
      "\t... 37 more\n"
     ]
    },
    {
     "name": "stdout",
     "output_type": "stream",
     "text": [
      "failed on co_357\n"
     ]
    },
    {
     "name": "stderr",
     "output_type": "stream",
     "text": [
      "INFO: [2023-02-10 13:41:20] pyobo.reader - [co_358] parsing with obonet from /Users/cthoyt/.data/pyobo/raw/co_358/2020-01-03/owl.obo\n",
      "WARNING: [2023-02-10 13:41:20] pyobo.reader - [co_358] ontology=https://cropontology.org/rdf/ has a strange format. replacing with prefix\n",
      "INFO: [2023-02-10 13:41:20] pyobo.reader - [co_358] extracting OBO using obonet\n",
      "INFO: [2023-02-10 13:41:20] pyobo.reader - [co_358] does not report a date\n",
      "WARNING: [2023-02-10 13:41:20] pyobo.reader - [co_358] does not report a version nor a date\n"
     ]
    },
    {
     "name": "stdout",
     "output_type": "stream",
     "text": [
      "failed on co_358\n"
     ]
    },
    {
     "name": "stderr",
     "output_type": "stream",
     "text": [
      "INFO: [2023-02-10 13:41:22] pyobo.reader - [co_359] parsing with obonet from /Users/cthoyt/.data/pyobo/raw/co_359/owl.obo\n",
      "WARNING: [2023-02-10 13:41:22] pyobo.reader - [co_359] ontology=https://cropontology.org/rdf/ has a strange format. replacing with prefix\n",
      "INFO: [2023-02-10 13:41:22] pyobo.reader - [co_359] extracting OBO using obonet\n",
      "INFO: [2023-02-10 13:41:22] pyobo.reader - [co_359] does not report a date\n",
      "WARNING: [2023-02-10 13:41:22] pyobo.reader - [co_359] does not report a version nor a date\n"
     ]
    },
    {
     "name": "stdout",
     "output_type": "stream",
     "text": [
      "failed on co_359\n"
     ]
    },
    {
     "name": "stderr",
     "output_type": "stream",
     "text": [
      "INFO: [2023-02-10 13:41:23] pyobo.reader - [co_360] parsing with obonet from /Users/cthoyt/.data/pyobo/raw/co_360/owl.obo\n",
      "WARNING: [2023-02-10 13:41:23] pyobo.reader - [co_360] ontology=https://cropontology.org/rdf/ has a strange format. replacing with prefix\n",
      "INFO: [2023-02-10 13:41:23] pyobo.reader - [co_360] extracting OBO using obonet\n",
      "INFO: [2023-02-10 13:41:23] pyobo.reader - [co_360] does not report a date\n",
      "WARNING: [2023-02-10 13:41:23] pyobo.reader - [co_360] does not report a version nor a date\n"
     ]
    },
    {
     "name": "stdout",
     "output_type": "stream",
     "text": [
      "failed on co_360\n"
     ]
    },
    {
     "name": "stderr",
     "output_type": "stream",
     "text": [
      "INFO: [2023-02-10 13:41:24] pyobo.reader - [co_365] parsing with obonet from /Users/cthoyt/.data/pyobo/raw/co_365/2019-10-15/owl.obo\n",
      "WARNING: [2023-02-10 13:41:24] pyobo.reader - [co_365] ontology=https://cropontology.org/rdf/ has a strange format. replacing with prefix\n",
      "INFO: [2023-02-10 13:41:24] pyobo.reader - [co_365] extracting OBO using obonet\n",
      "INFO: [2023-02-10 13:41:24] pyobo.reader - [co_365] does not report a date\n",
      "WARNING: [2023-02-10 13:41:24] pyobo.reader - [co_365] does not report a version nor a date\n"
     ]
    },
    {
     "name": "stdout",
     "output_type": "stream",
     "text": [
      "failed on co_365\n"
     ]
    },
    {
     "name": "stderr",
     "output_type": "stream",
     "text": [
      "INFO: [2023-02-10 13:41:25] pyobo.reader - [co_366] parsing with obonet from /Users/cthoyt/.data/pyobo/raw/co_366/owl.obo\n",
      "WARNING: [2023-02-10 13:41:25] pyobo.reader - [co_366] ontology=https://cropontology.org/rdf/ has a strange format. replacing with prefix\n",
      "INFO: [2023-02-10 13:41:25] pyobo.reader - [co_366] extracting OBO using obonet\n",
      "INFO: [2023-02-10 13:41:25] pyobo.reader - [co_366] does not report a date\n",
      "WARNING: [2023-02-10 13:41:25] pyobo.reader - [co_366] does not report a version nor a date\n"
     ]
    },
    {
     "name": "stdout",
     "output_type": "stream",
     "text": [
      "failed on co_366\n",
      "failed on cob\n",
      "failed on cto\n",
      "failed on datacite\n"
     ]
    },
    {
     "name": "stderr",
     "output_type": "stream",
     "text": [
      "WARNING: [2023-02-10 13:41:36] pyobo.utils.misc - [debio] bizarre version: 0.1.1-dev\n"
     ]
    },
    {
     "name": "stdout",
     "output_type": "stream",
     "text": [
      "failed on dcat\n"
     ]
    },
    {
     "name": "stderr",
     "output_type": "stream",
     "text": [
      "WARNING: [2023-02-10 13:41:38] pyobo.utils.misc - [depmap] bizarre version: 22Q4\n",
      "INFO: [2023-02-10 13:41:38] pyobo.getters - [depmap] caching nomenclature plugin\n",
      "WARNING: [2023-02-10 13:41:38] pyobo.utils.misc - [dicom] bizarre version: 2021e_20211122\n",
      "INFO: [2023-02-10 13:41:38] pyobo.getters - [dictybase] caching nomenclature plugin\n",
      "\n",
      "  0%|                                                 | 0/14222 [00:00<?, ?it/s]\u001b[A\n",
      "\u001b[A                                                                             WARNING: [2023-02-10 13:41:39] pyobo.utils.misc - [uniprot] bizarre version: 2022_05\n",
      "\n",
      "  0%|                                                 | 0/14222 [00:00<?, ?it/s]\u001b[A\n",
      "  0%|                                        | 23/14222 [00:01<12:36, 18.76it/s]\u001b[A\n",
      "  2%|▊                                     | 307/14222 [00:01<00:49, 280.03it/s]\u001b[A\n",
      " 48%|█████████████████▎                  | 6836/14222 [00:01<00:01, 6621.41it/s]\u001b[A\n",
      "100%|███████████████████████████████████| 14222/14222 [00:01<00:00, 7139.36it/s]\u001b[A\n"
     ]
    },
    {
     "name": "stdout",
     "output_type": "stream",
     "text": [
      "failed on dideo\n"
     ]
    },
    {
     "name": "stderr",
     "output_type": "stream",
     "text": [
      "INFO: [2023-02-10 13:41:44] pyobo.getters - [drugbank] caching nomenclature plugin\n"
     ]
    },
    {
     "name": "stdout",
     "output_type": "stream",
     "text": [
      "failed on drugbank\n"
     ]
    },
    {
     "name": "stderr",
     "output_type": "stream",
     "text": [
      "INFO: [2023-02-10 13:41:46] pyobo.getters - [drugcentral] caching nomenclature plugin\n"
     ]
    },
    {
     "data": {
      "application/vnd.jupyter.widget-view+json": {
       "model_id": "23097ce458c9445697a2ca1117a71bd5",
       "version_major": 2,
       "version_minor": 0
      },
      "text/plain": [
       "loading xrefs:   0%|          | 0.00/80.7k [00:00<?, ?it/s]"
      ]
     },
     "metadata": {},
     "output_type": "display_data"
    },
    {
     "name": "stdout",
     "output_type": "stream",
     "text": [
      "failed on dto\n",
      "failed on duo\n",
      "failed on ecg\n"
     ]
    },
    {
     "name": "stderr",
     "output_type": "stream",
     "text": [
      "INFO: [2023-02-10 13:42:54] pyobo.reader - [emapa] parsing with obonet from /Users/cthoyt/.data/pyobo/raw/emapa/2022-07-14/emapa.obo\n"
     ]
    },
    {
     "name": "stdout",
     "output_type": "stream",
     "text": [
      "failed on edda\n"
     ]
    },
    {
     "name": "stderr",
     "output_type": "stream",
     "text": [
      "INFO: [2023-02-10 13:42:55] pyobo.reader - [emapa] extracting OBO using obonet\n",
      "INFO: [2023-02-10 13:42:55] pyobo.reader - [emapa] using version 2022-08-31\n"
     ]
    },
    {
     "name": "stdout",
     "output_type": "stream",
     "text": [
      "failed on emapa\n"
     ]
    },
    {
     "name": "stderr",
     "output_type": "stream",
     "text": [
      "[Fatal Error] :188:80: Element type \"header\" must be followed by either attribute specifications, \">\" or \"/>\".\n"
     ]
    },
    {
     "name": "stdout",
     "output_type": "stream",
     "text": [
      "failed on ensemblglossary\n",
      "failed on eol\n",
      "failed on epio\n",
      "failed on epso\n",
      "failed on eupath\n"
     ]
    },
    {
     "name": "stderr",
     "output_type": "stream",
     "text": [
      "INFO: [2023-02-10 13:43:03] pyobo.reader - [fbbi] parsing with obonet from /Users/cthoyt/.data/pyobo/raw/fbbi/2020-11-06/fbbi.obo\n",
      "INFO: [2023-02-10 13:43:03] pyobo.reader - [fbbi] extracting OBO using obonet\n",
      "INFO: [2023-02-10 13:43:03] pyobo.reader - [fbbi] does not report a date\n",
      "INFO: [2023-02-10 13:43:03] pyobo.reader - [fbbi] using version 2020-11-06\n"
     ]
    },
    {
     "name": "stdout",
     "output_type": "stream",
     "text": [
      "failed on faldo\n",
      "failed on fbbi\n",
      "failed on fideo\n"
     ]
    },
    {
     "name": "stderr",
     "output_type": "stream",
     "text": [
      "WARNING: [2023-02-10 13:43:06] pyobo.utils.misc - [flybase] bizarre version: 2022_06\n",
      "INFO: [2023-02-10 13:43:06] pyobo.getters - [flybase] caching nomenclature plugin\n",
      "/Users/cthoyt/dev/pyobo/src/pyobo/utils/path.py:96: ParserWarning: Falling back to the 'python' engine because the 'c' engine does not support skipfooter; you can avoid this warning by specifying engine='python'.\n",
      "  return pd.read_csv(_path, sep=sep, dtype=dtype, **kwargs)\n",
      "WARNING: [2023-02-10 13:43:07] pyobo.sources.flybase - FlyBase gene type is missing mapping to Sequence Ontology (SO): mt_LSU_rRNA_gene\n",
      "WARNING: [2023-02-10 13:43:07] pyobo.sources.flybase - FlyBase gene type is missing mapping to Sequence Ontology (SO): mt_SSU_rRNA_gene\n",
      "WARNING: [2023-02-10 13:43:07] pyobo.sources.flybase - FlyBase gene type is missing mapping to Sequence Ontology (SO): C_D_box_snoRNA_gene\n",
      "WARNING: [2023-02-10 13:43:07] pyobo.sources.flybase - FlyBase gene type is missing mapping to Sequence Ontology (SO): C_D_box_scaRNA_gene\n",
      "WARNING: [2023-02-10 13:43:07] pyobo.sources.flybase - FlyBase gene type is missing mapping to Sequence Ontology (SO): H_ACA_box_snoRNA_gene\n",
      "WARNING: [2023-02-10 13:43:07] pyobo.sources.flybase - FlyBase gene type is missing mapping to Sequence Ontology (SO): hpRNA_gene\n",
      "WARNING: [2023-02-10 13:43:07] pyobo.sources.flybase - FlyBase gene type is missing mapping to Sequence Ontology (SO): cytosolic_rRNA_5S_gene\n",
      "WARNING: [2023-02-10 13:43:07] pyobo.sources.flybase - FlyBase gene type is missing mapping to Sequence Ontology (SO): RNA_7SK_gene\n",
      "WARNING: [2023-02-10 13:43:07] pyobo.sources.flybase - FlyBase gene type is missing mapping to Sequence Ontology (SO): cytosolic_rRNA_18S_gene\n",
      "WARNING: [2023-02-10 13:43:07] pyobo.sources.flybase - FlyBase gene type is missing mapping to Sequence Ontology (SO): cytosolic_rRNA_5_8S_gene\n",
      "WARNING: [2023-02-10 13:43:07] pyobo.sources.flybase - FlyBase gene type is missing mapping to Sequence Ontology (SO): H_ACA_box_scaRNA_gene\n",
      "WARNING: [2023-02-10 13:43:07] pyobo.sources.flybase - FlyBase gene type is missing mapping to Sequence Ontology (SO): cytosolic_rRNA_2S_gene\n",
      "WARNING: [2023-02-10 13:43:07] pyobo.sources.flybase - FlyBase gene type is missing mapping to Sequence Ontology (SO): cytosolic_rRNA_28S_gene\n",
      "WARNING: [2023-02-10 13:43:07] pyobo.sources.flybase - FlyBase gene type is missing mapping to Sequence Ontology (SO): sbRNA_gene\n",
      "\n",
      "  0%|                                                 | 0/35723 [00:00<?, ?it/s]\u001b[A\n",
      "  1%|▌                                    | 535/35723 [00:00<00:12, 2861.36it/s]\u001b[A\n",
      " 20%|███████                            | 7235/35723 [00:00<00:01, 18584.70it/s]\u001b[A\n",
      " 40%|█████████████▋                    | 14411/35723 [00:00<00:00, 23143.39it/s]\u001b[A\n",
      " 62%|█████████████████████             | 22183/35723 [00:00<00:00, 25045.00it/s]\u001b[A\n",
      "100%|██████████████████████████████████| 35723/35723 [00:01<00:00, 26737.59it/s]\u001b[A\n",
      "INFO: [2023-02-10 13:43:11] pyobo.reader - [foaf] parsing with obonet from /Users/cthoyt/.data/pyobo/raw/foaf/foaf.obo\n",
      "WARNING: [2023-02-10 13:43:11] pyobo.reader - [foaf] ontology=http://xmlns.com/foaf/0.1/ has a strange format. replacing with prefix\n",
      "INFO: [2023-02-10 13:43:11] pyobo.reader - [foaf] extracting OBO using obonet\n",
      "INFO: [2023-02-10 13:43:11] pyobo.reader - [foaf] does not report a date\n",
      "WARNING: [2023-02-10 13:43:11] pyobo.reader - [foaf] does not report a version nor a date\n",
      "WARNING: [2023-02-10 13:43:11] pyobo.utils.misc - [fobi] bizarre version: \n"
     ]
    },
    {
     "name": "stdout",
     "output_type": "stream",
     "text": [
      "failed on foaf\n",
      "failed on genepio\n",
      "failed on geo\n",
      "failed on geogeo\n",
      "failed on gfo\n"
     ]
    },
    {
     "name": "stderr",
     "output_type": "stream",
     "text": [
      "INFO: [2023-02-10 13:43:29] pystow.utils - downloading with urllib from ftp://ftp.geneontology.org/pub/go/ontology/extensions/gorel.owl to /Users/cthoyt/.data/pyobo/raw/gorel/gorel.owl\n"
     ]
    },
    {
     "name": "stdout",
     "output_type": "stream",
     "text": [
      "failed on gorel\n"
     ]
    },
    {
     "name": "stderr",
     "output_type": "stream",
     "text": [
      "INFO: [2023-02-10 13:44:46] pyobo.reader - [hancestro] parsing with obonet from /Users/cthoyt/.data/pyobo/raw/hancestro/2.6/hancestro.obo\n",
      "WARNING: [2023-02-10 13:44:46] pyobo.reader - [hancestro] ontology=hancestro/hancestro has a strange format. replacing with prefix\n",
      "INFO: [2023-02-10 13:44:46] pyobo.reader - [hancestro] extracting OBO using obonet\n",
      "INFO: [2023-02-10 13:44:46] pyobo.reader - [hancestro] does not report a date\n",
      "INFO: [2023-02-10 13:44:46] pyobo.reader - [hancestro] using version 2022-05-12\n",
      "INFO: [2023-02-10 13:44:46] pystow.utils - downloading with urllib from http://ontology.data.humancellatlas.org/ontologies/hcao/releases/2022-12-16/hcao.owl to /Users/cthoyt/.data/pyobo/raw/hcao/2022-12-16/hcao.owl\n",
      "INFO: [2023-02-10 13:44:46] pyobo.getters - [hgnc] caching nomenclature plugin\n",
      "INFO: [2023-02-10 13:44:46] pystow.utils - downloading with urllib from https://ftp.ebi.ac.uk/pub/databases/genenames/hgnc/archive/monthly/json/hgnc_complete_set_2023-02-01.json to /Users/cthoyt/.data/pyobo/raw/hgnc/2023-02-01/hgnc_complete_set.json\n",
      "INFO: [2023-02-10 13:44:46] pystow.utils - downloading with urllib from https://github.com/yuki-yamagata/hoip/raw/master/hoip_0308.owl to /Users/cthoyt/.data/pyobo/raw/hoip/hoip_0308.owl\n"
     ]
    },
    {
     "name": "stdout",
     "output_type": "stream",
     "text": [
      "failed on hancestro\n",
      "failed on hcao\n",
      "failed on hgnc\n",
      "failed on hoip\n"
     ]
    },
    {
     "name": "stderr",
     "output_type": "stream",
     "text": [
      "INFO: [2023-02-10 13:44:51] pyobo.reader - [hpath] parsing with obonet from /Users/cthoyt/.data/pyobo/raw/hpath/2019-07-05/hpath.obo\n"
     ]
    },
    {
     "name": "stdout",
     "output_type": "stream",
     "text": [
      "failed on hpath\n",
      "failed on hso\n",
      "failed on htn\n",
      "failed on icdo\n",
      "failed on iceo\n",
      "failed on ico\n",
      "failed on ido\n",
      "failed on idocovid19\n",
      "failed on idoden\n",
      "failed on interpro\n"
     ]
    },
    {
     "name": "stderr",
     "output_type": "stream",
     "text": [
      "WARNING: [2023-02-10 13:45:27] pyobo.utils.misc - [itis] bizarre version: 30-Jan-2023\n",
      "INFO: [2023-02-10 13:45:27] pyobo.getters - [itis] caching nomenclature plugin\n",
      "INFO: [2023-02-10 13:45:27] pystow.utils - downloading with urllib from https://www.itis.gov/downloads/itisSqlite.zip to /Users/cthoyt/.data/pyobo/raw/itis/30-Jan-2023/itisSqlite.zip\n"
     ]
    },
    {
     "name": "stdout",
     "output_type": "stream",
     "text": [
      "failed on ito\n",
      "failed on labo\n",
      "failed on mdm\n",
      "failed on mfmo\n",
      "failed on mfoem\n",
      "failed on miapa\n",
      "failed on micro\n",
      "failed on mosaic\n",
      "failed on mpio\n",
      "failed on msigdb\n"
     ]
    },
    {
     "name": "stderr",
     "output_type": "stream",
     "text": [
      "INFO: [2023-02-10 13:49:12] pyobo.api.names - [ncbigene] loading name mappings\n"
     ]
    },
    {
     "name": "stdout",
     "output_type": "stream",
     "text": [
      "failed on msio\n"
     ]
    },
    {
     "name": "stderr",
     "output_type": "stream",
     "text": [
      "INFO: [2023-02-10 13:51:02] pyobo.api.names - [ncbigene] done loading name mappings\n",
      "WARNING: [2023-02-10 13:51:11] pyobo.utils.misc - [ncit] bizarre version: 22.12d\n"
     ]
    },
    {
     "name": "stdout",
     "output_type": "stream",
     "text": [
      "failed on nemo\n",
      "failed on npo\n",
      "failed on oae\n",
      "failed on obcs\n",
      "failed on obib\n",
      "failed on ogg\n",
      "failed on ogsf\n",
      "failed on ohd\n",
      "failed on ohmi\n",
      "failed on ohpi\n"
     ]
    },
    {
     "name": "stderr",
     "output_type": "stream",
     "text": [
      "WARNING: [2023-02-10 13:53:06] pyobo.utils.misc - [ons] bizarre version: Release version 1.2.3\n"
     ]
    },
    {
     "name": "stdout",
     "output_type": "stream",
     "text": [
      "failed on om\n"
     ]
    },
    {
     "name": "stderr",
     "output_type": "stream",
     "text": [
      "WARNING: [2023-02-10 13:53:19] pyobo.utils.misc - [ontoneo] bizarre version: v1.6\n"
     ]
    },
    {
     "name": "stdout",
     "output_type": "stream",
     "text": [
      "failed on ons\n",
      "failed on ontoneo\n",
      "failed on oostt\n",
      "failed on opb\n",
      "failed on opl\n"
     ]
    },
    {
     "name": "stderr",
     "output_type": "stream",
     "text": [
      "INFO: [2023-02-10 13:53:58] pyobo.reader - [ornaseq] parsing with obonet from /Users/cthoyt/.data/pyobo/raw/ornaseq/2019-07-08/ornaseq.obo\n",
      "INFO: [2023-02-10 13:53:58] pyobo.reader - [ornaseq] extracting OBO using obonet\n",
      "INFO: [2023-02-10 13:53:58] pyobo.reader - [ornaseq] does not report a date\n",
      "INFO: [2023-02-10 13:53:58] pyobo.reader - [ornaseq] using version 2019-07-08\n"
     ]
    },
    {
     "name": "stdout",
     "output_type": "stream",
     "text": [
      "failed on opmi\n",
      "failed on ornaseq\n",
      "failed on orphanet.ordo\n",
      "failed on orth\n",
      "failed on ovae\n"
     ]
    },
    {
     "name": "stderr",
     "output_type": "stream",
     "text": [
      "INFO: [2023-02-10 13:54:32] pyobo.reader - [owl] parsing with obonet from /Users/cthoyt/.data/pyobo/raw/owl/download.trig.obo\n"
     ]
    },
    {
     "name": "stdout",
     "output_type": "stream",
     "text": [
      "failed on owl\n"
     ]
    },
    {
     "name": "stderr",
     "output_type": "stream",
     "text": [
      "INFO: [2023-02-10 13:54:33] pyobo.reader - [pcl] parsing with obonet from /Users/cthoyt/.data/pyobo/raw/pcl/2022-10-19/pcl.obo\n",
      "INFO: [2023-02-10 13:54:51] pyobo.reader - [pcl] extracting OBO using obonet\n",
      "INFO: [2023-02-10 13:54:52] pyobo.reader - [pcl] does not report a date\n",
      "INFO: [2023-02-10 13:54:52] pyobo.reader - [pcl] using version 2022-10-19\n"
     ]
    },
    {
     "name": "stdout",
     "output_type": "stream",
     "text": [
      "failed on pcl\n",
      "failed on pdro\n"
     ]
    },
    {
     "name": "stderr",
     "output_type": "stream",
     "text": [
      "INFO: [2023-02-10 13:54:59] pyobo.reader - [pmr] parsing with obonet from /Users/cthoyt/.data/pyobo/raw/pmr/pmr.obo\n",
      "WARNING: [2023-02-10 13:54:59] pyobo.reader - [pmr] ontology=http://purl.bioontology.org/ontology/PMR.owl has a strange format. replacing with prefix\n",
      "INFO: [2023-02-10 13:54:59] pyobo.reader - [pmr] extracting OBO using obonet\n",
      "INFO: [2023-02-10 13:54:59] pyobo.reader - [pmr] does not report a date\n",
      "WARNING: [2023-02-10 13:54:59] pyobo.reader - [pmr] does not report a version nor a date\n"
     ]
    },
    {
     "name": "stdout",
     "output_type": "stream",
     "text": [
      "failed on pmr\n"
     ]
    },
    {
     "name": "stderr",
     "output_type": "stream",
     "text": [
      "INFO: [2023-02-10 13:55:00] pyobo.getters - [pombase] caching nomenclature plugin\n",
      "INFO: [2023-02-10 13:55:00] pyobo.getters - [hgnc] caching nomenclature plugin\n",
      "INFO: [2023-02-10 13:55:00] pystow.utils - downloading with urllib from https://ftp.ebi.ac.uk/pub/databases/genenames/hgnc/archive/monthly/json/hgnc_complete_set_2023-02-01.json to /Users/cthoyt/.data/pyobo/raw/hgnc/2023-02-01/hgnc_complete_set.json\n"
     ]
    },
    {
     "name": "stdout",
     "output_type": "stream",
     "text": [
      "failed on pombase\n",
      "failed on ppo\n"
     ]
    },
    {
     "name": "stderr",
     "output_type": "stream",
     "text": [
      "INFO: [2023-02-10 13:55:09] pyobo.reader - [pride] parsing with obonet from /Users/cthoyt/.data/pyobo/raw/pride/2012-03-06/pride_cv.obo\n",
      "WARNING: [2023-02-10 13:55:10] pyobo.utils.misc - [proco] bizarre version: PROCO release 20220414\n"
     ]
    },
    {
     "name": "stdout",
     "output_type": "stream",
     "text": [
      "failed on pride\n",
      "failed on proco\n",
      "failed on prov\n",
      "failed on qudt\n"
     ]
    },
    {
     "name": "stderr",
     "output_type": "stream",
     "text": [
      "INFO: [2023-02-10 13:55:21] pyobo.getters - [reactome] caching nomenclature plugin\n",
      "\n",
      "mapping reactome:   0%|                               | 0/22040 [00:00<?, ?it/s]\u001b[A\n",
      "mapping reactome:  30%|█████            | 6507/22040 [00:00<00:00, 64861.76it/s]\u001b[A\n",
      "mapping reactome:  59%|█████████▍      | 12994/22040 [00:00<00:00, 64670.99it/s]\u001b[A\n",
      "mapping reactome: 100%|████████████████| 22040/22040 [00:00<00:00, 64480.99it/s]\u001b[A\n",
      "\n",
      "  0%|                                                | 0/913445 [00:00<?, ?it/s]\u001b[A\n",
      "  2%|▋                               | 18298/913445 [00:00<00:04, 182959.67it/s]\u001b[A\n",
      "  4%|█▎                              | 37053/913445 [00:00<00:04, 185650.99it/s]\u001b[A\n",
      "  6%|█▉                              | 55894/913445 [00:00<00:04, 186902.90it/s]\u001b[A\n",
      "  8%|██▋                             | 75342/913445 [00:00<00:04, 189885.76it/s]\u001b[A\n",
      " 10%|███▎                            | 94698/913445 [00:00<00:04, 191203.14it/s]\u001b[A\n",
      " 12%|███▊                           | 113819/913445 [00:00<00:04, 189618.28it/s]\u001b[A\n",
      " 15%|████▌                          | 133276/913445 [00:00<00:04, 191223.59it/s]\u001b[A\n",
      " 17%|█████▏                         | 152401/913445 [00:00<00:03, 190697.40it/s]\u001b[A\n",
      " 19%|█████▊                         | 171473/913445 [00:00<00:03, 190305.91it/s]\u001b[A\n",
      " 21%|██████▍                        | 190505/913445 [00:01<00:03, 187840.27it/s]\u001b[A\n",
      " 23%|███████                        | 209296/913445 [00:01<00:03, 185789.43it/s]\u001b[A\n",
      " 25%|███████▋                       | 228114/913445 [00:01<00:03, 186500.94it/s]\u001b[A\n",
      " 27%|████████▍                      | 247419/913445 [00:01<00:03, 188457.27it/s]\u001b[A\n",
      " 29%|█████████                      | 266930/913445 [00:01<00:03, 190446.11it/s]\u001b[A\n",
      " 31%|█████████▋                     | 285981/913445 [00:01<00:03, 189587.90it/s]\u001b[A\n",
      " 33%|██████████▋                     | 304945/913445 [00:06<00:46, 13001.90it/s]\u001b[A\n",
      " 35%|███████████▎                    | 323386/913445 [00:06<00:33, 17877.29it/s]\u001b[A\n",
      " 37%|███████████▉                    | 342073/913445 [00:06<00:23, 24475.84it/s]\u001b[A\n",
      " 39%|████████████▌                   | 360261/913445 [00:06<00:16, 32791.81it/s]\u001b[A\n",
      " 41%|█████████████▎                  | 378398/913445 [00:06<00:12, 43218.49it/s]\u001b[A\n",
      " 43%|█████████████▉                  | 396559/913445 [00:06<00:09, 55828.08it/s]\u001b[A\n",
      " 45%|██████████████▌                 | 415164/913445 [00:06<00:07, 70825.15it/s]\u001b[A\n",
      " 47%|███████████████▏                | 432946/913445 [00:06<00:05, 85800.31it/s]\u001b[A\n",
      " 49%|███████████████▎               | 451445/913445 [00:06<00:04, 102433.42it/s]\u001b[A\n",
      " 51%|███████████████▉               | 469633/913445 [00:07<00:03, 117786.39it/s]\u001b[A\n",
      " 53%|████████████████▌              | 487657/913445 [00:07<00:03, 130561.34it/s]\u001b[A\n",
      " 55%|█████████████████▋              | 505543/913445 [00:11<00:32, 12723.88it/s]\u001b[A\n",
      " 57%|██████████████████▎             | 522898/913445 [00:11<00:22, 17425.06it/s]\u001b[A\n",
      " 59%|██████████████████▉             | 540784/913445 [00:11<00:15, 23896.15it/s]\u001b[A\n",
      " 61%|███████████████████▌            | 558398/913445 [00:11<00:11, 32141.96it/s]\u001b[A\n",
      " 63%|████████████████████▏           | 576218/913445 [00:11<00:07, 42631.24it/s]\u001b[A\n",
      " 65%|████████████████████▊           | 594138/913445 [00:12<00:05, 55338.31it/s]\u001b[A\n",
      " 67%|█████████████████████▍          | 611915/913445 [00:12<00:04, 69702.64it/s]\u001b[A\n",
      " 69%|██████████████████████          | 629762/913445 [00:12<00:03, 85314.62it/s]\u001b[A\n",
      " 71%|██████████████████████         | 648330/913445 [00:12<00:02, 102392.37it/s]\u001b[A\n",
      " 73%|██████████████████████▋        | 666792/913445 [00:12<00:02, 118470.25it/s]\u001b[A\n",
      " 75%|███████████████████████▎       | 685410/913445 [00:12<00:01, 133251.09it/s]\u001b[A\n",
      " 77%|███████████████████████▉       | 704568/913445 [00:12<00:01, 147091.49it/s]\u001b[A\n",
      " 79%|████████████████████████▌      | 723017/913445 [00:12<00:01, 156282.43it/s]\u001b[A\n",
      " 81%|█████████████████████████▏     | 741450/913445 [00:12<00:01, 163723.23it/s]\u001b[A\n",
      " 83%|██████████████████████████▌     | 759865/913445 [00:17<00:12, 12613.11it/s]\u001b[A\n",
      " 85%|███████████████████████████▏    | 777654/913445 [00:17<00:07, 17311.55it/s]\u001b[A\n",
      " 87%|███████████████████████████▉    | 795946/913445 [00:17<00:04, 23774.58it/s]\u001b[A\n",
      " 89%|████████████████████████████▌   | 814217/913445 [00:17<00:03, 32167.40it/s]\u001b[A\n",
      " 91%|█████████████████████████████▏  | 832335/913445 [00:17<00:01, 42619.77it/s]\u001b[A\n",
      " 93%|█████████████████████████████▊  | 850676/913445 [00:18<00:01, 55442.49it/s]\u001b[A\n",
      " 95%|██████████████████████████████▍ | 868452/913445 [00:18<00:00, 69524.52it/s]\u001b[A\n",
      " 97%|███████████████████████████████ | 887626/913445 [00:18<00:00, 86785.09it/s]\u001b[A\n",
      "100%|████████████████████████████████| 913445/913445 [00:18<00:00, 49801.09it/s]\u001b[A\n",
      "\n",
      "  0%|                                                | 0/264766 [00:00<?, ?it/s]\u001b[A\n",
      "  7%|██▏                             | 17950/264766 [00:00<00:01, 179474.50it/s]\u001b[A\n",
      " 14%|████▎                           | 35898/264766 [00:00<00:01, 174212.89it/s]\u001b[A\n",
      " 20%|██████▍                         | 53330/264766 [00:00<00:01, 172763.94it/s]\u001b[A\n",
      " 27%|████████▌                       | 70612/264766 [00:00<00:01, 172538.83it/s]\u001b[A\n",
      " 33%|██████████▌                     | 87869/264766 [00:00<00:01, 170259.22it/s]\u001b[A\n",
      " 40%|████████████▎                  | 105578/264766 [00:00<00:00, 172539.16it/s]\u001b[A\n",
      " 46%|██████████████▍                | 122839/264766 [00:00<00:00, 171397.35it/s]\u001b[A\n",
      " 53%|████████████████▍              | 140168/264766 [00:00<00:00, 171986.18it/s]\u001b[A\n",
      " 59%|███████████████████             | 157371/264766 [00:05<00:08, 12104.17it/s]\u001b[A\n",
      " 66%|█████████████████████           | 174448/264766 [00:05<00:05, 16900.09it/s]\u001b[A\n",
      " 72%|███████████████████████▏        | 191881/264766 [00:05<00:03, 23416.53it/s]\u001b[A\n",
      " 79%|█████████████████████████▎      | 208981/264766 [00:05<00:01, 31656.15it/s]\u001b[A\n",
      " 85%|███████████████████████████▎    | 226318/264766 [00:05<00:00, 42123.83it/s]\u001b[A\n",
      " 92%|█████████████████████████████▌  | 244473/264766 [00:05<00:00, 55431.88it/s]\u001b[A\n",
      "100%|████████████████████████████████| 264766/264766 [00:05<00:00, 45713.79it/s]\u001b[A\n"
     ]
    },
    {
     "name": "stdout",
     "output_type": "stream",
     "text": [
      "failed on reo\n",
      "failed on reproduceme\n"
     ]
    },
    {
     "name": "stderr",
     "output_type": "stream",
     "text": [
      "INFO: [2023-02-10 13:56:07] pyobo.getters - [rgd] caching nomenclature plugin\n",
      "INFO: [2023-02-10 13:56:07] pystow.utils - downloading with urllib from https://download.rgd.mcw.edu/data_release/GENES.RAT.txt to /Users/cthoyt/.data/pyobo/raw/rgd/2023-02-03/GENES.RAT.txt\n",
      "/Users/cthoyt/dev/pyobo/src/pyobo/utils/path.py:96: FutureWarning: The error_bad_lines argument has been deprecated and will be removed in a future version. Use on_bad_lines in the future.\n",
      "\n",
      "\n",
      "  return pd.read_csv(_path, sep=sep, dtype=dtype, **kwargs)\n",
      "\n",
      "Mapping rgd:   0%|                                 | 0.00/66.8k [00:00<?, ?it/s]\u001b[A\n",
      "Mapping rgd:   0%|                          | 104/66.8k [00:00<01:04, 1.04kit/s]\u001b[A\n",
      "Mapping rgd:   1%|▏                         | 350/66.8k [00:00<00:35, 1.87kit/s]\u001b[A\n",
      "Mapping rgd:   1%|▏                         | 627/66.8k [00:00<00:29, 2.28kit/s]\u001b[A\n",
      "Mapping rgd:   1%|▎                         | 911/66.8k [00:00<00:26, 2.50kit/s]\u001b[A\n",
      "Mapping rgd:   2%|▍                       | 1.24k/66.8k [00:00<00:23, 2.76kit/s]\u001b[A\n",
      "Mapping rgd:   2%|▌                       | 1.54k/66.8k [00:00<00:22, 2.87kit/s]\u001b[A\n",
      "Mapping rgd:   3%|▋                       | 1.88k/66.8k [00:00<00:21, 3.01kit/s]\u001b[A\n",
      "Mapping rgd:   3%|▊                       | 2.22k/66.8k [00:00<00:20, 3.15kit/s]\u001b[A\n",
      "Mapping rgd:   4%|▉                       | 2.58k/66.8k [00:00<00:19, 3.30kit/s]\u001b[A\n",
      "Mapping rgd:   4%|█                       | 2.94k/66.8k [00:01<00:18, 3.37kit/s]\u001b[A\n",
      "Mapping rgd:   5%|█▏                      | 3.30k/66.8k [00:01<00:18, 3.45kit/s]\u001b[A\n",
      "Mapping rgd:   5%|█▎                      | 3.66k/66.8k [00:01<00:18, 3.49kit/s]\u001b[A\n",
      "Mapping rgd:   6%|█▍                      | 4.02k/66.8k [00:01<00:17, 3.53kit/s]\u001b[A\n",
      "Mapping rgd:   7%|█▌                      | 4.39k/66.8k [00:01<00:17, 3.59kit/s]\u001b[A\n",
      "Mapping rgd:   7%|█▋                      | 4.79k/66.8k [00:01<00:16, 3.71kit/s]\u001b[A\n",
      "Mapping rgd:   8%|█▊                      | 5.18k/66.8k [00:01<00:16, 3.75kit/s]\u001b[A\n",
      "Mapping rgd:   8%|██                      | 5.59k/66.8k [00:01<00:15, 3.87kit/s]\u001b[A\n",
      "Mapping rgd:   9%|██▎                       | 5.98k/66.8k [00:05<03:26, 294it/s]\u001b[A\n",
      "Mapping rgd:  10%|██▍                       | 6.41k/66.8k [00:05<02:24, 418it/s]\u001b[A\n",
      "Mapping rgd:  10%|██▋                       | 6.83k/66.8k [00:06<01:43, 582it/s]\u001b[A\n",
      "Mapping rgd:  11%|██▊                       | 7.26k/66.8k [00:06<01:14, 795it/s]\u001b[A\n",
      "Mapping rgd:  12%|██▊                     | 7.69k/66.8k [00:06<00:55, 1.07kit/s]\u001b[A\n",
      "Mapping rgd:  12%|██▉                     | 8.13k/66.8k [00:06<00:42, 1.39kit/s]\u001b[A\n",
      "Mapping rgd:  13%|███                     | 8.57k/66.8k [00:06<00:33, 1.76kit/s]\u001b[A\n",
      "Mapping rgd:  13%|███▏                    | 9.01k/66.8k [00:06<00:26, 2.17kit/s]\u001b[A\n",
      "Mapping rgd:  14%|███▍                    | 9.46k/66.8k [00:06<00:22, 2.56kit/s]\u001b[A\n",
      "Mapping rgd:  15%|███▌                    | 9.89k/66.8k [00:06<00:19, 2.93kit/s]\u001b[A\n",
      "Mapping rgd:  15%|████                      | 10.3k/66.8k [00:10<02:40, 353it/s]\u001b[A\n",
      "Mapping rgd:  16%|████▏                     | 10.8k/66.8k [00:10<01:55, 486it/s]\u001b[A\n",
      "Mapping rgd:  17%|████▎                     | 11.2k/66.8k [00:10<01:23, 666it/s]\u001b[A\n",
      "Mapping rgd:  17%|████▌                     | 11.6k/66.8k [00:10<01:01, 894it/s]\u001b[A\n",
      "Mapping rgd:  18%|████▎                   | 12.1k/66.8k [00:10<00:46, 1.19kit/s]\u001b[A\n",
      "Mapping rgd:  19%|████▌                   | 12.5k/66.8k [00:11<00:35, 1.53kit/s]\u001b[A\n",
      "Mapping rgd:  20%|████▋                   | 13.1k/66.8k [00:11<00:26, 2.00kit/s]\u001b[A\n",
      "Mapping rgd:  20%|████▉                   | 13.6k/66.8k [00:11<00:21, 2.47kit/s]\u001b[A\n",
      "Mapping rgd:  21%|█████                   | 14.1k/66.8k [00:11<00:17, 2.96kit/s]\u001b[A\n",
      "Mapping rgd:  22%|█████▏                  | 14.6k/66.8k [00:11<00:15, 3.30kit/s]\u001b[A\n",
      "Mapping rgd:  23%|█████▍                  | 15.0k/66.8k [00:11<00:14, 3.56kit/s]\u001b[A\n",
      "Mapping rgd:  23%|██████                    | 15.5k/66.8k [00:15<02:15, 379it/s]\u001b[A\n",
      "Mapping rgd:  24%|██████▏                   | 16.0k/66.8k [00:15<01:37, 522it/s]\u001b[A\n",
      "Mapping rgd:  25%|██████▍                   | 16.4k/66.8k [00:15<01:10, 711it/s]\u001b[A\n",
      "Mapping rgd:  25%|██████▌                   | 16.9k/66.8k [00:15<00:52, 954it/s]\u001b[A\n",
      "Mapping rgd:  26%|██████▎                 | 17.4k/66.8k [00:15<00:39, 1.26kit/s]\u001b[A\n",
      "Mapping rgd:  27%|██████▍                 | 17.9k/66.8k [00:15<00:30, 1.62kit/s]\u001b[A\n",
      "Mapping rgd:  27%|██████▌                 | 18.4k/66.8k [00:16<00:23, 2.02kit/s]\u001b[A\n",
      "Mapping rgd:  28%|██████▊                 | 18.9k/66.8k [00:16<00:19, 2.48kit/s]\u001b[A\n",
      "Mapping rgd:  29%|██████▉                 | 19.4k/66.8k [00:16<00:15, 3.01kit/s]\u001b[A\n",
      "Mapping rgd:  30%|███████▏                | 20.0k/66.8k [00:16<00:13, 3.52kit/s]\u001b[A\n",
      "Mapping rgd:  31%|███████▎                | 20.5k/66.8k [00:16<00:11, 3.96kit/s]\u001b[A\n",
      "Mapping rgd:  31%|███████▌                | 21.0k/66.8k [00:16<00:10, 4.28kit/s]\u001b[A\n",
      "Mapping rgd:  32%|███████▊                | 21.6k/66.8k [00:16<00:09, 4.59kit/s]\u001b[A\n",
      "Mapping rgd:  33%|███████▉                | 22.1k/66.8k [00:16<00:09, 4.78kit/s]\u001b[A\n",
      "Mapping rgd:  34%|████████▏               | 22.7k/66.8k [00:16<00:08, 4.99kit/s]\u001b[A\n",
      "Mapping rgd:  35%|█████████                 | 23.2k/66.8k [00:21<01:48, 402it/s]\u001b[A\n",
      "Mapping rgd:  36%|█████████▏                | 23.8k/66.8k [00:21<01:16, 561it/s]\u001b[A\n",
      "Mapping rgd:  36%|█████████▍                | 24.3k/66.8k [00:21<00:54, 780it/s]\u001b[A\n",
      "Mapping rgd:  37%|████████▉               | 24.9k/66.8k [00:21<00:38, 1.07kit/s]\u001b[A\n",
      "Mapping rgd:  38%|█████████▏              | 25.5k/66.8k [00:21<00:28, 1.44kit/s]\u001b[A\n",
      "Mapping rgd:  39%|█████████▍              | 26.1k/66.8k [00:21<00:21, 1.91kit/s]\u001b[A\n",
      "Mapping rgd:  40%|█████████▌              | 26.8k/66.8k [00:21<00:16, 2.43kit/s]\u001b[A\n",
      "Mapping rgd:  41%|█████████▊              | 27.4k/66.8k [00:21<00:13, 3.01kit/s]\u001b[A\n",
      "Mapping rgd:  42%|██████████              | 28.0k/66.8k [00:21<00:10, 3.64kit/s]\u001b[A\n",
      "Mapping rgd:  43%|██████████▎             | 28.7k/66.8k [00:21<00:09, 4.23kit/s]\u001b[A\n",
      "Mapping rgd:  44%|██████████▌             | 29.4k/66.8k [00:22<00:07, 4.79kit/s]\u001b[A\n",
      "Mapping rgd:  45%|██████████▊             | 30.0k/66.8k [00:22<00:07, 5.22kit/s]\u001b[A\n",
      "Mapping rgd:  46%|███████████             | 30.7k/66.8k [00:22<00:06, 5.59kit/s]\u001b[A\n",
      "Mapping rgd:  47%|███████████▎            | 31.4k/66.8k [00:22<00:06, 5.87kit/s]\u001b[A\n",
      "Mapping rgd:  48%|███████████▌            | 32.0k/66.8k [00:22<00:05, 6.05kit/s]\u001b[A\n",
      "Mapping rgd:  49%|███████████▋            | 32.7k/66.8k [00:22<00:05, 6.22kit/s]\u001b[A\n",
      "Mapping rgd:  50%|███████████▉            | 33.4k/66.8k [00:22<00:05, 6.33kit/s]\u001b[A\n",
      "Mapping rgd:  51%|████████████▏           | 34.0k/66.8k [00:22<00:05, 6.48kit/s]\u001b[A\n",
      "Mapping rgd:  52%|████████████▍           | 34.7k/66.8k [00:22<00:04, 6.55kit/s]\u001b[A\n",
      "Mapping rgd:  53%|████████████▋           | 35.4k/66.8k [00:22<00:04, 6.56kit/s]\u001b[A\n",
      "Mapping rgd:  54%|████████████▉           | 36.1k/66.8k [00:23<00:04, 6.61kit/s]\u001b[A\n",
      "Mapping rgd:  55%|█████████████▏          | 36.7k/66.8k [00:23<00:04, 6.62kit/s]\u001b[A\n",
      "Mapping rgd:  56%|█████████████▍          | 37.4k/66.8k [00:23<00:04, 6.59kit/s]\u001b[A\n",
      "Mapping rgd:  57%|██████████████▊           | 38.0k/66.8k [00:27<00:53, 538it/s]\u001b[A\n",
      "Mapping rgd:  58%|███████████████           | 38.7k/66.8k [00:27<00:37, 739it/s]\u001b[A\n",
      "Mapping rgd:  59%|██████████████▏         | 39.4k/66.8k [00:27<00:27, 1.01kit/s]\u001b[A\n",
      "Mapping rgd:  60%|██████████████▍         | 40.0k/66.8k [00:27<00:19, 1.35kit/s]\u001b[A\n",
      "Mapping rgd:  61%|██████████████▌         | 40.7k/66.8k [00:27<00:14, 1.78kit/s]\u001b[A\n",
      "Mapping rgd:  62%|██████████████▊         | 41.4k/66.8k [00:27<00:11, 2.29kit/s]\u001b[A\n",
      "Mapping rgd:  63%|███████████████         | 42.0k/66.8k [00:27<00:08, 2.86kit/s]\u001b[A\n",
      "Mapping rgd:  64%|███████████████▎        | 42.8k/66.8k [00:27<00:06, 3.51kit/s]\u001b[A\n",
      "Mapping rgd:  65%|███████████████▌        | 43.4k/66.8k [00:27<00:05, 4.05kit/s]\u001b[A\n",
      "Mapping rgd:  66%|███████████████▊        | 44.1k/66.8k [00:28<00:04, 4.58kit/s]\u001b[A\n",
      "Mapping rgd:  67%|████████████████        | 44.8k/66.8k [00:28<00:04, 5.06kit/s]\u001b[A\n",
      "Mapping rgd:  68%|████████████████▎       | 45.4k/66.8k [00:28<00:03, 5.45kit/s]\u001b[A\n",
      "Mapping rgd:  69%|████████████████▌       | 46.1k/66.8k [00:28<00:03, 5.80kit/s]\u001b[A\n",
      "Mapping rgd:  70%|████████████████▊       | 46.8k/66.8k [00:28<00:03, 6.07kit/s]\u001b[A\n"
     ]
    },
    {
     "name": "stderr",
     "output_type": "stream",
     "text": [
      "Mapping rgd:  71%|█████████████████       | 47.5k/66.8k [00:28<00:03, 6.27kit/s]\u001b[A\n",
      "Mapping rgd:  72%|█████████████████▎      | 48.1k/66.8k [00:28<00:02, 6.39kit/s]\u001b[A\n",
      "Mapping rgd:  73%|█████████████████▌      | 48.8k/66.8k [00:28<00:02, 6.52kit/s]\u001b[A\n",
      "Mapping rgd:  74%|█████████████████▊      | 49.5k/66.8k [00:28<00:02, 6.63kit/s]\u001b[A\n",
      "Mapping rgd:  75%|██████████████████      | 50.2k/66.8k [00:28<00:02, 6.68kit/s]\u001b[A\n",
      "Mapping rgd:  76%|██████████████████▎     | 50.9k/66.8k [00:29<00:02, 6.68kit/s]\u001b[A\n",
      "Mapping rgd:  77%|██████████████████▌     | 51.6k/66.8k [00:29<00:02, 6.71kit/s]\u001b[A\n",
      "Mapping rgd:  78%|██████████████████▊     | 52.3k/66.8k [00:29<00:02, 6.79kit/s]\u001b[A\n",
      "Mapping rgd:  79%|███████████████████     | 52.9k/66.8k [00:29<00:02, 6.80kit/s]\u001b[A\n",
      "Mapping rgd:  80%|███████████████████▎    | 53.6k/66.8k [00:29<00:01, 6.81kit/s]\u001b[A\n",
      "Mapping rgd:  81%|███████████████████▌    | 54.3k/66.8k [00:29<00:01, 6.80kit/s]\u001b[A\n",
      "Mapping rgd:  82%|███████████████████▊    | 55.0k/66.8k [00:29<00:01, 6.85kit/s]\u001b[A\n",
      "Mapping rgd:  83%|████████████████████    | 55.7k/66.8k [00:29<00:01, 6.83kit/s]\u001b[A\n",
      "Mapping rgd:  84%|████████████████████▎   | 56.4k/66.8k [00:29<00:01, 6.82kit/s]\u001b[A\n",
      "Mapping rgd:  85%|████████████████████▌   | 57.1k/66.8k [00:29<00:01, 6.82kit/s]\u001b[A\n",
      "Mapping rgd:  86%|████████████████████▊   | 57.7k/66.8k [00:30<00:01, 6.79kit/s]\u001b[A\n",
      "Mapping rgd:  87%|████████████████████▉   | 58.4k/66.8k [00:30<00:01, 6.78kit/s]\u001b[A\n",
      "Mapping rgd:  88%|███████████████████████   | 59.1k/66.8k [00:34<00:15, 483it/s]\u001b[A\n",
      "Mapping rgd:  90%|███████████████████████▎  | 59.8k/66.8k [00:34<00:10, 676it/s]\u001b[A\n",
      "Mapping rgd:  91%|███████████████████████▌  | 60.5k/66.8k [00:34<00:06, 936it/s]\u001b[A\n",
      "Mapping rgd:  92%|██████████████████████  | 61.2k/66.8k [00:34<00:04, 1.29kit/s]\u001b[A\n",
      "Mapping rgd:  93%|██████████████████████▎ | 62.0k/66.8k [00:35<00:02, 1.71kit/s]\u001b[A\n",
      "Mapping rgd:  94%|██████████████████████▌ | 62.7k/66.8k [00:35<00:01, 2.19kit/s]\u001b[A\n",
      "Mapping rgd:  95%|██████████████████████▊ | 63.3k/66.8k [00:35<00:01, 2.72kit/s]\u001b[A\n",
      "Mapping rgd:  96%|██████████████████████▉ | 64.0k/66.8k [00:35<00:00, 3.27kit/s]\u001b[A\n",
      "Mapping rgd:  97%|███████████████████████▏| 64.7k/66.8k [00:35<00:00, 3.84kit/s]\u001b[A\n",
      "Mapping rgd:  98%|███████████████████████▍| 65.3k/66.8k [00:35<00:00, 4.37kit/s]\u001b[A\n",
      "Mapping rgd:  99%|███████████████████████▋| 66.0k/66.8k [00:35<00:00, 4.83kit/s]\u001b[A\n",
      "Mapping rgd: 100%|████████████████████████| 66.8k/66.8k [00:35<00:00, 1.87kit/s]\u001b[A\n",
      "INFO: [2023-02-10 13:57:01] pyobo.getters - [rhea] caching nomenclature plugin\n"
     ]
    },
    {
     "name": "stdout",
     "output_type": "stream",
     "text": [
      "failed on schema\n"
     ]
    },
    {
     "name": "stderr",
     "output_type": "stream",
     "text": [
      "WARNING: [2023-02-10 13:58:42] pyobo.utils.misc - [sepio] bizarre version: $Revision$\n"
     ]
    },
    {
     "name": "stdout",
     "output_type": "stream",
     "text": [
      "failed on sdgio\n",
      "failed on sepio\n"
     ]
    },
    {
     "name": "stderr",
     "output_type": "stream",
     "text": [
      "WARNING: [2023-02-10 13:58:48] pyobo.utils.misc - [sgd] bizarre version: R64-3-1\n",
      "INFO: [2023-02-10 13:58:48] pyobo.getters - [sgd] caching nomenclature plugin\n",
      "[Fatal Error] :26:7: The element type \"link\" must be terminated by the matching end-tag \"</link>\".\n"
     ]
    },
    {
     "name": "stdout",
     "output_type": "stream",
     "text": [
      "failed on snomedct\n",
      "failed on sphn\n",
      "failed on srao\n"
     ]
    },
    {
     "name": "stderr",
     "output_type": "stream",
     "text": [
      "INFO: [2023-02-10 13:59:04] pyobo.reader - [sweetrealm] parsing with obonet from /Users/cthoyt/.data/pyobo/raw/sweetrealm/sweetrealm.obo\n",
      "INFO: [2023-02-10 13:59:04] pystow.utils - downloading with urllib from https://github.com/allysonlister/swo/raw/master/release/swo.obo to /Users/cthoyt/.data/pyobo/raw/swo/2022-10-11/swo.obo\n"
     ]
    },
    {
     "name": "stdout",
     "output_type": "stream",
     "text": [
      "failed on stato\n",
      "failed on sweetrealm\n",
      "failed on swo\n"
     ]
    },
    {
     "name": "stderr",
     "output_type": "stream",
     "text": [
      "INFO: [2023-02-10 13:59:06] pyobo.reader - [time] parsing with obonet from /Users/cthoyt/.data/pyobo/raw/time/time.obo\n",
      "WARNING: [2023-02-10 13:59:06] pyobo.reader - [time] ontology=http://www.w3.org/2006/time has a strange format. replacing with prefix\n",
      "INFO: [2023-02-10 13:59:06] pyobo.reader - [time] extracting OBO using obonet\n",
      "INFO: [2023-02-10 13:59:06] pyobo.reader - [time] does not report a date\n",
      "WARNING: [2023-02-10 13:59:06] pyobo.utils.misc - [time] bizarre version: http://www.w3.org/2006/time#2016\n",
      "INFO: [2023-02-10 13:59:06] pyobo.reader - [time] using version http://www.w3.org/2006/time#2016\n"
     ]
    },
    {
     "name": "stdout",
     "output_type": "stream",
     "text": [
      "failed on time\n",
      "failed on txpo\n"
     ]
    },
    {
     "name": "stderr",
     "output_type": "stream",
     "text": [
      "INFO: [2023-02-10 13:59:21] pyobo.reader - [unimod] parsing with obonet from /Users/cthoyt/.data/pyobo/raw/unimod/2019-11-21/unimod.obo\n",
      "INFO: [2023-02-10 13:59:22] pyobo.getters - [uniprot] caching nomenclature plugin\n"
     ]
    },
    {
     "name": "stdout",
     "output_type": "stream",
     "text": [
      "failed on unimod\n"
     ]
    },
    {
     "name": "stderr",
     "output_type": "stream",
     "text": [
      "\n",
      "Mapping UniProt: 0it [00:00, ?it/s]\u001b[A\n",
      "Mapping UniProt: 6231it [00:00, 62292.39it/s]\u001b[A\n",
      "Mapping UniProt: 12461it [00:00, 55660.61it/s]\u001b[A\n",
      "Mapping UniProt: 18074it [00:00, 53705.88it/s]\u001b[A\n",
      "Mapping UniProt: 23468it [00:00, 53199.15it/s]\u001b[A\n",
      "Mapping UniProt: 28800it [00:00, 52524.02it/s]\u001b[A\n",
      "Mapping UniProt: 34059it [00:00, 52259.54it/s]\u001b[A\n",
      "Mapping UniProt: 39288it [00:00, 51295.26it/s]\u001b[A\n",
      "Mapping UniProt: 44434it [00:00, 51344.31it/s]\u001b[A\n",
      "Mapping UniProt: 49696it [00:00, 51729.89it/s]\u001b[A\n",
      "Mapping UniProt: 55088it [00:01, 52392.29it/s]\u001b[A\n",
      "Mapping UniProt: 61229it [00:01, 55118.26it/s]\u001b[A\n",
      "Mapping UniProt: 67539it [00:01, 57525.34it/s]\u001b[A\n",
      "Mapping UniProt: 73906it [00:01, 59372.82it/s]\u001b[A\n",
      "Mapping UniProt: 80349it [00:01, 60891.61it/s]\u001b[A\n",
      "Mapping UniProt: 86736it [00:01, 61785.18it/s]\u001b[A\n",
      "Mapping UniProt: 93054it [00:01, 62202.68it/s]\u001b[A\n",
      "Mapping UniProt: 99552it [00:01, 63035.12it/s]\u001b[A\n",
      "Mapping UniProt: 106014it [00:01, 63507.99it/s]\u001b[A\n",
      "Mapping UniProt: 112408it [00:01, 63634.61it/s]\u001b[A\n",
      "Mapping UniProt: 118882it [00:02, 63963.81it/s]\u001b[A\n",
      "Mapping UniProt: 125279it [00:02, 63552.02it/s]\u001b[A\n",
      "Mapping UniProt: 131636it [00:02, 63013.71it/s]\u001b[A\n",
      "Mapping UniProt: 137968it [00:02, 63101.78it/s]\u001b[A\n",
      "Mapping UniProt: 144280it [00:02, 62975.25it/s]\u001b[A\n",
      "Mapping UniProt: 150579it [00:02, 62817.81it/s]\u001b[A\n",
      "Mapping UniProt: 156862it [00:02, 62489.75it/s]\u001b[A\n",
      "Mapping UniProt: 163112it [00:02, 62315.32it/s]\u001b[A\n",
      "Mapping UniProt: 169344it [00:02, 62226.13it/s]\u001b[A\n",
      "Mapping UniProt: 175567it [00:02, 62152.82it/s]\u001b[A\n",
      "Mapping UniProt: 178050it [00:17, 1136.95it/s] \u001b[A\n",
      "Mapping UniProt: 178050it [00:17, 1136.95it/s]\u001b[A\n",
      "Mapping UniProt: 184210it [00:17, 1706.00it/s]\u001b[A\n",
      "Mapping UniProt: 191138it [00:17, 2602.51it/s]\u001b[A\n",
      "Mapping UniProt: 198342it [00:18, 3894.07it/s]\u001b[A\n",
      "Mapping UniProt: 205376it [00:18, 5612.42it/s]\u001b[A\n",
      "Mapping UniProt: 212634it [00:18, 7999.74it/s]\u001b[A\n",
      "Mapping UniProt: 219808it [00:18, 11088.48it/s]\u001b[A\n",
      "Mapping UniProt: 227081it [00:18, 15079.35it/s]\u001b[A\n",
      "Mapping UniProt: 234150it [00:23, 3829.09it/s] \u001b[A\n",
      "Mapping UniProt: 241454it [00:23, 5411.87it/s]\u001b[A\n",
      "Mapping UniProt: 248881it [00:23, 7589.24it/s]\u001b[A\n",
      "Mapping UniProt: 256400it [00:23, 10511.91it/s]\u001b[A\n",
      "Mapping UniProt: 263889it [00:23, 14256.68it/s]\u001b[A\n",
      "Mapping UniProt: 271364it [00:23, 18897.45it/s]\u001b[A\n",
      "Mapping UniProt: 278993it [00:24, 24566.23it/s]\u001b[A\n",
      "Mapping UniProt: 286542it [00:24, 30863.11it/s]\u001b[A\n",
      "Mapping UniProt: 293861it [00:29, 4393.22it/s] \u001b[A\n",
      "Mapping UniProt: 301357it [00:29, 6135.61it/s]\u001b[A\n",
      "Mapping UniProt: 308853it [00:29, 8480.53it/s]\u001b[A\n",
      "Mapping UniProt: 316859it [00:29, 11802.78it/s]\u001b[A\n",
      "Mapping UniProt: 325231it [00:29, 16274.68it/s]\u001b[A\n",
      "Mapping UniProt: 333608it [00:29, 21781.10it/s]\u001b[A\n",
      "Mapping UniProt: 342063it [00:29, 28332.73it/s]\u001b[A\n",
      "Mapping UniProt: 350480it [00:29, 35578.03it/s]\u001b[A\n",
      "Mapping UniProt: 358885it [00:30, 43157.34it/s]\u001b[A\n",
      "Mapping UniProt: 367033it [00:35, 4915.65it/s] \u001b[A\n",
      "Mapping UniProt: 375379it [00:35, 6873.75it/s]\u001b[A\n",
      "Mapping UniProt: 383574it [00:35, 9455.54it/s]\u001b[A\n",
      "Mapping UniProt: 391871it [00:35, 12897.96it/s]\u001b[A\n",
      "Mapping UniProt: 400087it [00:35, 17240.67it/s]\u001b[A\n",
      "Mapping UniProt: 408441it [00:35, 22690.78it/s]\u001b[A\n",
      "Mapping UniProt: 416846it [00:35, 29139.02it/s]\u001b[A\n",
      "Mapping UniProt: 425163it [00:35, 36191.83it/s]\u001b[A\n",
      "Mapping UniProt: 433614it [00:35, 43784.98it/s]\u001b[A\n",
      "Mapping UniProt: 441930it [00:36, 51004.03it/s]\u001b[A\n",
      "Mapping UniProt: 450328it [00:36, 57847.55it/s]\u001b[A\n",
      "Mapping UniProt: 458788it [00:36, 63964.60it/s]\u001b[A\n",
      "Mapping UniProt: 467129it [00:41, 4911.93it/s] \u001b[A\n",
      "Mapping UniProt: 476075it [00:41, 6984.79it/s]\u001b[A\n",
      "Mapping UniProt: 484913it [00:41, 9739.10it/s]\u001b[A\n",
      "Mapping UniProt: 493838it [00:41, 13405.50it/s]\u001b[A\n",
      "Mapping UniProt: 502732it [00:42, 18072.10it/s]\u001b[A\n",
      "Mapping UniProt: 511583it [00:42, 23785.78it/s]\u001b[A\n",
      "Mapping UniProt: 520397it [00:42, 30468.81it/s]\u001b[A\n",
      "Mapping UniProt: 529246it [00:42, 37964.07it/s]\u001b[A\n",
      "Mapping UniProt: 538113it [00:42, 45863.36it/s]\u001b[A\n",
      "Mapping UniProt: 546945it [00:42, 53590.98it/s]\u001b[A\n",
      "Mapping UniProt: 555775it [00:42, 60753.18it/s]\u001b[A\n",
      "Mapping UniProt: 568744it [00:42, 13280.35it/s]\u001b[A\n",
      "INFO: [2023-02-10 14:00:08] pystow.utils - downloading with urllib from https://www.uniprot.org/diseases/?query=*&format=obo to /Users/cthoyt/.data/pyobo/raw/uniprot.disease/2022-06-09/diseases\n",
      "INFO: [2023-02-10 14:00:09] pystow.utils - downloading with urllib from https://www.uniprot.org/keywords/?format=obo to /Users/cthoyt/.data/pyobo/raw/uniprot.keyword/2022-06-09/keywords\n"
     ]
    },
    {
     "name": "stdout",
     "output_type": "stream",
     "text": [
      "failed on uniprot.disease\n"
     ]
    },
    {
     "name": "stderr",
     "output_type": "stream",
     "text": [
      "INFO: [2023-02-10 14:00:09] pystow.utils - downloading with urllib from https://www.uniprot.org/locations/?query=*&format=obo to /Users/cthoyt/.data/pyobo/raw/uniprot.location/2022-06-09/locations\n"
     ]
    },
    {
     "name": "stdout",
     "output_type": "stream",
     "text": [
      "failed on uniprot.keyword\n"
     ]
    },
    {
     "name": "stderr",
     "output_type": "stream",
     "text": [
      "INFO: [2023-02-10 14:00:09] pystow.utils - downloading with urllib from https://github.com/obophenotype/upheno/blob/master/upheno.obo to /Users/cthoyt/.data/pyobo/raw/upheno/2017-10-31/upheno.obo\n"
     ]
    },
    {
     "name": "stdout",
     "output_type": "stream",
     "text": [
      "failed on uniprot.location\n",
      "failed on upheno\n",
      "failed on vido\n",
      "failed on vo\n",
      "failed on vso\n"
     ]
    },
    {
     "name": "stderr",
     "output_type": "stream",
     "text": [
      "WARNING: [2023-02-10 14:00:31] pyobo.utils.misc - [zfin] bizarre version: 9 Feb 2023\n",
      "INFO: [2023-02-10 14:00:31] pyobo.getters - [zfin] caching nomenclature plugin\n",
      "INFO: [2023-02-10 14:00:31] pystow.utils - downloading with urllib from https://zfin.org/downloads/zdb_history.txt to /Users/cthoyt/.data/pyobo/raw/zfin/9 Feb 2023/alts.tsv\n",
      "INFO: [2023-02-10 14:00:33] pystow.utils - downloading with urllib from https://zfin.org/downloads/human_orthos.txt to /Users/cthoyt/.data/pyobo/raw/zfin/9 Feb 2023/human_orthos.txt\n",
      "INFO: [2023-02-10 14:00:36] pystow.utils - downloading with urllib from https://zfin.org/downloads/mouse_orthos.txt to /Users/cthoyt/.data/pyobo/raw/zfin/9 Feb 2023/mouse_orthos.txt\n",
      "INFO: [2023-02-10 14:00:39] pystow.utils - downloading with urllib from https://zfin.org/downloads/fly_orthos.txt to /Users/cthoyt/.data/pyobo/raw/zfin/9 Feb 2023/fly_orthos.txt\n",
      "INFO: [2023-02-10 14:00:40] pystow.utils - downloading with urllib from https://zfin.org/downloads/gene.txt to /Users/cthoyt/.data/pyobo/raw/zfin/9 Feb 2023/gene.txt\n",
      "INFO: [2023-02-10 14:00:42] pystow.utils - downloading with urllib from https://zfin.org/downloads/uniprot.txt to /Users/cthoyt/.data/pyobo/raw/zfin/9 Feb 2023/uniprot.txt\n",
      "INFO: [2023-02-10 14:00:44] pystow.utils - downloading with urllib from https://zfin.org/downloads/genetic_markers.txt to /Users/cthoyt/.data/pyobo/raw/zfin/9 Feb 2023/markers.tsv\n",
      "\n",
      "  0%|                                                | 0/176632 [00:00<?, ?it/s]\u001b[A\n",
      "  2%|▊                                  | 4304/176632 [00:04<02:44, 1046.89it/s]\u001b[A\n",
      "  6%|██                                | 10974/176632 [00:04<00:50, 3251.59it/s]\u001b[A\n",
      "  8%|██▉                               | 14941/176632 [00:08<01:33, 1735.63it/s]\u001b[A\n",
      " 12%|███▉                              | 20569/176632 [00:12<01:36, 1610.32it/s]\u001b[A\n",
      " 15%|█████▎                            | 27365/176632 [00:12<00:54, 2751.13it/s]\u001b[A\n",
      " 18%|██████                            | 31617/176632 [00:16<01:14, 1945.06it/s]\u001b[A\n",
      " 22%|███████▍                          | 38534/176632 [00:16<00:44, 3132.54it/s]\u001b[A\n",
      " 26%|████████▋                         | 45452/176632 [00:16<00:27, 4758.21it/s]\u001b[A\n",
      " 28%|█████████▋                        | 50224/176632 [00:20<00:46, 2740.88it/s]\u001b[A\n",
      " 32%|███████████                       | 57346/176632 [00:20<00:28, 4175.07it/s]\u001b[A\n",
      " 36%|████████████▏                     | 63420/176632 [00:23<00:38, 2906.84it/s]\u001b[A\n",
      "\u001b[A                                                                             INFO: [2023-02-10 14:01:18] pyobo.getters - [hgnc] caching nomenclature plugin\n",
      "\n",
      " 36%|████████████▏                     | 63420/176632 [00:23<00:38, 2906.84it/s]\u001b[A\n",
      "\u001b[A                                                                             INFO: [2023-02-10 14:01:18] pystow.utils - downloading with urllib from https://ftp.ebi.ac.uk/pub/databases/genenames/hgnc/archive/monthly/json/hgnc_complete_set_2023-02-01.json to /Users/cthoyt/.data/pyobo/raw/hgnc/2023-02-01/hgnc_complete_set.json\n",
      "\n",
      " 37%|████████████▌                     | 65368/176632 [00:23<00:40, 2726.82it/s]\u001b[A\n"
     ]
    },
    {
     "name": "stdout",
     "output_type": "stream",
     "text": [
      "failed on zfin\n"
     ]
    }
   ],
   "source": [
    "ids = {}\n",
    "with logging_redirect_tqdm():\n",
    "    it = tqdm(resources, unit=\"prefix\", unit_scale=True)\n",
    "    failed_prefixes = set()\n",
    "    succeeded_prefixes = set()\n",
    "    for resource in it:\n",
    "        it.set_postfix(failed=len(failed_prefixes), succeeded=len(succeeded_prefixes), current=resource.prefix)\n",
    "        try:\n",
    "            resource_ids = pyobo.get_ids(resource.prefix, strict=False)\n",
    "        except Exception:\n",
    "            tqdm.write(f\"failed on {resource.prefix}\")\n",
    "            failed_prefixes.add(resource.prefix)\n",
    "            continue\n",
    "        else:\n",
    "            if resource_ids:\n",
    "                ids[resource.prefix] = resource_ids\n",
    "            succeeded_prefixes.add(resource.prefix)"
   ]
  },
  {
   "cell_type": "code",
   "execution_count": 5,
   "id": "df98d068",
   "metadata": {},
   "outputs": [
    {
     "data": {
      "application/vnd.jupyter.widget-view+json": {
       "model_id": "271a0f773228480c91bd11f69b9bed6c",
       "version_major": 2,
       "version_minor": 0
      },
      "text/plain": [
       "  0%|          | 0.00/14.0k [00:00<?, ?it/s]"
      ]
     },
     "metadata": {},
     "output_type": "display_data"
    },
    {
     "data": {
      "text/html": [
       "<div>\n",
       "<style scoped>\n",
       "    .dataframe tbody tr th:only-of-type {\n",
       "        vertical-align: middle;\n",
       "    }\n",
       "\n",
       "    .dataframe tbody tr th {\n",
       "        vertical-align: top;\n",
       "    }\n",
       "\n",
       "    .dataframe thead th {\n",
       "        text-align: right;\n",
       "    }\n",
       "</style>\n",
       "<table border=\"1\" class=\"dataframe\">\n",
       "  <thead>\n",
       "    <tr style=\"text-align: right;\">\n",
       "      <th></th>\n",
       "      <th>source_prefix</th>\n",
       "      <th>target_prefix</th>\n",
       "      <th>source_size</th>\n",
       "      <th>target_size</th>\n",
       "      <th>absolute_overlap</th>\n",
       "      <th>normalized_overlap</th>\n",
       "    </tr>\n",
       "  </thead>\n",
       "  <tbody>\n",
       "    <tr>\n",
       "      <th>0</th>\n",
       "      <td>apo</td>\n",
       "      <td>lbo</td>\n",
       "      <td>309</td>\n",
       "      <td>1108</td>\n",
       "      <td>309</td>\n",
       "      <td>1.00000</td>\n",
       "    </tr>\n",
       "    <tr>\n",
       "      <th>1</th>\n",
       "      <td>apo</td>\n",
       "      <td>sbo</td>\n",
       "      <td>309</td>\n",
       "      <td>694</td>\n",
       "      <td>309</td>\n",
       "      <td>1.00000</td>\n",
       "    </tr>\n",
       "    <tr>\n",
       "      <th>2</th>\n",
       "      <td>bfo</td>\n",
       "      <td>bto</td>\n",
       "      <td>35</td>\n",
       "      <td>6511</td>\n",
       "      <td>35</td>\n",
       "      <td>1.00000</td>\n",
       "    </tr>\n",
       "    <tr>\n",
       "      <th>3</th>\n",
       "      <td>bfo</td>\n",
       "      <td>chmo</td>\n",
       "      <td>35</td>\n",
       "      <td>2908</td>\n",
       "      <td>35</td>\n",
       "      <td>1.00000</td>\n",
       "    </tr>\n",
       "    <tr>\n",
       "      <th>4</th>\n",
       "      <td>bfo</td>\n",
       "      <td>cmo</td>\n",
       "      <td>35</td>\n",
       "      <td>3025</td>\n",
       "      <td>35</td>\n",
       "      <td>1.00000</td>\n",
       "    </tr>\n",
       "    <tr>\n",
       "      <th>...</th>\n",
       "      <td>...</td>\n",
       "      <td>...</td>\n",
       "      <td>...</td>\n",
       "      <td>...</td>\n",
       "      <td>...</td>\n",
       "      <td>...</td>\n",
       "    </tr>\n",
       "    <tr>\n",
       "      <th>5325</th>\n",
       "      <td>doid</td>\n",
       "      <td>efo</td>\n",
       "      <td>11207</td>\n",
       "      <td>15540</td>\n",
       "      <td>1</td>\n",
       "      <td>0.00009</td>\n",
       "    </tr>\n",
       "    <tr>\n",
       "      <th>5326</th>\n",
       "      <td>doid</td>\n",
       "      <td>mp</td>\n",
       "      <td>11207</td>\n",
       "      <td>13569</td>\n",
       "      <td>1</td>\n",
       "      <td>0.00009</td>\n",
       "    </tr>\n",
       "    <tr>\n",
       "      <th>5327</th>\n",
       "      <td>fbbt</td>\n",
       "      <td>tto</td>\n",
       "      <td>17570</td>\n",
       "      <td>38640</td>\n",
       "      <td>1</td>\n",
       "      <td>0.00006</td>\n",
       "    </tr>\n",
       "    <tr>\n",
       "      <th>5328</th>\n",
       "      <td>fbbt</td>\n",
       "      <td>xpo</td>\n",
       "      <td>17570</td>\n",
       "      <td>20061</td>\n",
       "      <td>1</td>\n",
       "      <td>0.00006</td>\n",
       "    </tr>\n",
       "    <tr>\n",
       "      <th>5329</th>\n",
       "      <td>fbbt</td>\n",
       "      <td>zp</td>\n",
       "      <td>17570</td>\n",
       "      <td>36602</td>\n",
       "      <td>1</td>\n",
       "      <td>0.00006</td>\n",
       "    </tr>\n",
       "  </tbody>\n",
       "</table>\n",
       "<p>5330 rows × 6 columns</p>\n",
       "</div>"
      ],
      "text/plain": [
       "     source_prefix target_prefix  source_size  target_size  absolute_overlap  \\\n",
       "0              apo           lbo          309         1108               309   \n",
       "1              apo           sbo          309          694               309   \n",
       "2              bfo           bto           35         6511                35   \n",
       "3              bfo          chmo           35         2908                35   \n",
       "4              bfo           cmo           35         3025                35   \n",
       "...            ...           ...          ...          ...               ...   \n",
       "5325          doid           efo        11207        15540                 1   \n",
       "5326          doid            mp        11207        13569                 1   \n",
       "5327          fbbt           tto        17570        38640                 1   \n",
       "5328          fbbt           xpo        17570        20061                 1   \n",
       "5329          fbbt            zp        17570        36602                 1   \n",
       "\n",
       "      normalized_overlap  \n",
       "0                1.00000  \n",
       "1                1.00000  \n",
       "2                1.00000  \n",
       "3                1.00000  \n",
       "4                1.00000  \n",
       "...                  ...  \n",
       "5325             0.00009  \n",
       "5326             0.00009  \n",
       "5327             0.00006  \n",
       "5328             0.00006  \n",
       "5329             0.00006  \n",
       "\n",
       "[5330 rows x 6 columns]"
      ]
     },
     "execution_count": 5,
     "metadata": {},
     "output_type": "execute_result"
    }
   ],
   "source": [
    "rows = []\n",
    "prefixes_encountered = set()\n",
    "total = len(ids) * (len(ids) - 1) / 2\n",
    "min_terms = 10\n",
    "for (a_prefix, a), (b_prefix, b) in tqdm(\n",
    "    combinations(ids.items(), 2), total=total, unit_scale=True\n",
    "):\n",
    "    len_a, len_b = len(a), len(b)\n",
    "    if len_a < min_terms or len_b < min_terms:\n",
    "        continue\n",
    "\n",
    "    prefixes_encountered.add(a_prefix)\n",
    "    prefixes_encountered.add(b_prefix)\n",
    "\n",
    "    intersection = set(a).intersection(b)\n",
    "    if not intersection:\n",
    "        continue\n",
    "\n",
    "    n_intersection = len(intersection)\n",
    "    overlap = n_intersection / min(len_a, len_b)\n",
    "    rows.append((a_prefix, b_prefix, len_a, len_b, n_intersection, round(overlap, 5)))\n",
    "\n",
    "# Sort descending by normalized overlap\n",
    "rows = sorted(rows, key=itemgetter(5), reverse=True)\n",
    "overlap_df = pd.DataFrame(\n",
    "    rows,\n",
    "    columns=[\n",
    "        \"source_prefix\",\n",
    "        \"target_prefix\",\n",
    "        \"source_size\",\n",
    "        \"target_size\",\n",
    "        \"absolute_overlap\",\n",
    "        \"normalized_overlap\",\n",
    "    ],\n",
    ")\n",
    "overlap_df.to_csv(\"edges.tsv\", sep=\"\\t\", index=False)\n",
    "overlap_df"
   ]
  },
  {
   "cell_type": "code",
   "execution_count": 6,
   "id": "644f938e",
   "metadata": {},
   "outputs": [
    {
     "data": {
      "text/html": [
       "<div>\n",
       "<style scoped>\n",
       "    .dataframe tbody tr th:only-of-type {\n",
       "        vertical-align: middle;\n",
       "    }\n",
       "\n",
       "    .dataframe tbody tr th {\n",
       "        vertical-align: top;\n",
       "    }\n",
       "\n",
       "    .dataframe thead th {\n",
       "        text-align: right;\n",
       "    }\n",
       "</style>\n",
       "<table border=\"1\" class=\"dataframe\">\n",
       "  <thead>\n",
       "    <tr style=\"text-align: right;\">\n",
       "      <th></th>\n",
       "      <th>prefix</th>\n",
       "      <th>name</th>\n",
       "      <th>example_luid</th>\n",
       "      <th>n_luids</th>\n",
       "    </tr>\n",
       "  </thead>\n",
       "  <tbody>\n",
       "    <tr>\n",
       "      <th>0</th>\n",
       "      <td>agro</td>\n",
       "      <td>Agronomy Ontology</td>\n",
       "      <td>00020007</td>\n",
       "      <td>772</td>\n",
       "    </tr>\n",
       "    <tr>\n",
       "      <th>1</th>\n",
       "      <td>aism</td>\n",
       "      <td>Ontology for the Anatomy of the Insect Skeleto...</td>\n",
       "      <td>0000027</td>\n",
       "      <td>553</td>\n",
       "    </tr>\n",
       "    <tr>\n",
       "      <th>2</th>\n",
       "      <td>amphx</td>\n",
       "      <td>The Amphioxus Development and Anatomy Ontology</td>\n",
       "      <td>1000160</td>\n",
       "      <td>399</td>\n",
       "    </tr>\n",
       "    <tr>\n",
       "      <th>3</th>\n",
       "      <td>antibodyregistry</td>\n",
       "      <td>Antibody Registry</td>\n",
       "      <td>493771</td>\n",
       "      <td>1898783</td>\n",
       "    </tr>\n",
       "    <tr>\n",
       "      <th>4</th>\n",
       "      <td>apo</td>\n",
       "      <td>Ascomycete phenotype ontology</td>\n",
       "      <td>0000184</td>\n",
       "      <td>309</td>\n",
       "    </tr>\n",
       "    <tr>\n",
       "      <th>...</th>\n",
       "      <td>...</td>\n",
       "      <td>...</td>\n",
       "      <td>...</td>\n",
       "      <td>...</td>\n",
       "    </tr>\n",
       "    <tr>\n",
       "      <th>153</th>\n",
       "      <td>xpo</td>\n",
       "      <td>Xenopus Phenotype Ontology</td>\n",
       "      <td>0100002</td>\n",
       "      <td>20061</td>\n",
       "    </tr>\n",
       "    <tr>\n",
       "      <th>154</th>\n",
       "      <td>zeco</td>\n",
       "      <td>Zebrafish Experimental Conditions Ontology</td>\n",
       "      <td>0000171</td>\n",
       "      <td>161</td>\n",
       "    </tr>\n",
       "    <tr>\n",
       "      <th>155</th>\n",
       "      <td>zfa</td>\n",
       "      <td>Zebrafish anatomy and development ontology</td>\n",
       "      <td>0005926</td>\n",
       "      <td>3079</td>\n",
       "    </tr>\n",
       "    <tr>\n",
       "      <th>156</th>\n",
       "      <td>zfs</td>\n",
       "      <td>Zebrafish developmental stages ontology</td>\n",
       "      <td>0000050</td>\n",
       "      <td>54</td>\n",
       "    </tr>\n",
       "    <tr>\n",
       "      <th>157</th>\n",
       "      <td>zp</td>\n",
       "      <td>Zebrafish Phenotype Ontology</td>\n",
       "      <td>0019030</td>\n",
       "      <td>36602</td>\n",
       "    </tr>\n",
       "  </tbody>\n",
       "</table>\n",
       "<p>158 rows × 4 columns</p>\n",
       "</div>"
      ],
      "text/plain": [
       "               prefix                                               name  \\\n",
       "0                agro                                  Agronomy Ontology   \n",
       "1                aism  Ontology for the Anatomy of the Insect Skeleto...   \n",
       "2               amphx     The Amphioxus Development and Anatomy Ontology   \n",
       "3    antibodyregistry                                  Antibody Registry   \n",
       "4                 apo                      Ascomycete phenotype ontology   \n",
       "..                ...                                                ...   \n",
       "153               xpo                         Xenopus Phenotype Ontology   \n",
       "154              zeco         Zebrafish Experimental Conditions Ontology   \n",
       "155               zfa         Zebrafish anatomy and development ontology   \n",
       "156               zfs            Zebrafish developmental stages ontology   \n",
       "157                zp                       Zebrafish Phenotype Ontology   \n",
       "\n",
       "    example_luid  n_luids  \n",
       "0       00020007      772  \n",
       "1        0000027      553  \n",
       "2        1000160      399  \n",
       "3         493771  1898783  \n",
       "4        0000184      309  \n",
       "..           ...      ...  \n",
       "153      0100002    20061  \n",
       "154      0000171      161  \n",
       "155      0005926     3079  \n",
       "156      0000050       54  \n",
       "157      0019030    36602  \n",
       "\n",
       "[158 rows x 4 columns]"
      ]
     },
     "execution_count": 6,
     "metadata": {},
     "output_type": "execute_result"
    }
   ],
   "source": [
    "prefix_rows = [\n",
    "    (\n",
    "        prefix,\n",
    "        bioregistry.get_name(prefix),\n",
    "        bioregistry.get_example(prefix),\n",
    "        len(ids[prefix]),\n",
    "    )\n",
    "    for prefix in sorted(prefixes_encountered)\n",
    "]\n",
    "prefix_df = pd.DataFrame(\n",
    "    prefix_rows, columns=[\"prefix\", \"name\", \"example_luid\", \"n_luids\"]\n",
    ")\n",
    "prefix_df.to_csv(\"nodes.tsv\", sep=\"\\t\", index=False)\n",
    "prefix_df"
   ]
  },
  {
   "cell_type": "code",
   "execution_count": 7,
   "id": "040e41ec",
   "metadata": {},
   "outputs": [],
   "source": [
    "graph = nx.Graph()\n",
    "for prefix, name, _example, size in prefix_rows:\n",
    "    graph.add_node(\n",
    "        prefix,\n",
    "        name=name,\n",
    "        size=size,\n",
    "        prefix=prefix,\n",
    "        description=bioregistry.get_description(prefix),\n",
    "    )\n",
    "for source, target, _, _, absolute_overlap, normalized_overlap in rows:\n",
    "    graph.add_edge(\n",
    "        source,\n",
    "        target,\n",
    "        weight=normalized_overlap,\n",
    "        absolute_overlap=absolute_overlap,\n",
    "    )"
   ]
  },
  {
   "cell_type": "code",
   "execution_count": 8,
   "id": "24438143",
   "metadata": {},
   "outputs": [],
   "source": [
    "nx.write_graphml_lxml(graph, \"graph.graphml\")"
   ]
  },
  {
   "cell_type": "code",
   "execution_count": 9,
   "id": "c62a3082",
   "metadata": {},
   "outputs": [],
   "source": [
    "with open(\"graph.cytoscape.json\", \"w\") as file:\n",
    "    json.dump(nx.cytoscape_data(graph), file, indent=2)"
   ]
  }
 ],
 "metadata": {
  "kernelspec": {
   "display_name": "Python 3 (ipykernel)",
   "language": "python",
   "name": "python3"
  },
  "language_info": {
   "codemirror_mode": {
    "name": "ipython",
    "version": 3
   },
   "file_extension": ".py",
   "mimetype": "text/x-python",
   "name": "python",
   "nbconvert_exporter": "python",
   "pygments_lexer": "ipython3",
   "version": "3.11.0"
  }
 },
 "nbformat": 4,
 "nbformat_minor": 5
}
